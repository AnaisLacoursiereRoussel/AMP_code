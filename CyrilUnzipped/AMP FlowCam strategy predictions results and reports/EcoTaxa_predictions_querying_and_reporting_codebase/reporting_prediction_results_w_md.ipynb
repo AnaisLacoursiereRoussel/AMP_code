{
 "cells": [
  {
   "cell_type": "markdown",
   "id": "84413f09",
   "metadata": {},
   "source": [
    "#### Imports and Setup\n",
    "Importation of necessary libraries and custom modules.\n",
    "- `pickle` for object serialization/deserialization.\n",
    "- `pathlib.Path` for OS-independent path manipulations.\n",
    "- `pandas` for data manipulation and analysis.\n",
    "- `matplotlib.pyplot` for plotting.\n",
    "- Custom helper functions from local modules (`collate_models_metrics`, `collecting_results`, `plotting_helpers`, `reporting_helpers`) for specific tasks related to processing, visualizing, and reporting classification results."
   ]
  },
  {
   "cell_type": "code",
   "execution_count": 1,
   "id": "9085895b",
   "metadata": {},
   "outputs": [],
   "source": [
    "import pickle\n",
    "from pathlib import Path\n",
    "\n",
    "import pandas as pd\n",
    "from matplotlib import pyplot as plt\n",
    "\n",
    "from collate_models_metrics import export_metrics_to_excel\n",
    "from collecting_results import save_prediction_dataframes_to_excel\n",
    "from plotting_helpers import (\n",
    "    create_f1_scores_strategy_comp_by_scn_maxObj_figs,\n",
    "    create_region_scn_maxObj_comp_strategy_metrics_figs,\n",
    ")\n",
    "from reporting_helpers import (\n",
    "    batch_process_ecotaxa_prediction_jobs,\n",
    "    create_classifier_metrics_dataframe,\n",
    "    get_prediction_job_files_by_exported_ID_dict,\n",
    "    process_all_export_jobs,\n",
    "    process_all_visualizations,\n",
    ")"
   ]
  },
  {
   "cell_type": "markdown",
   "id": "946510a3",
   "metadata": {},
   "source": [
    "#### Matplotlib Configuration\n",
    "`matplotlib` plotting parameters are established for consistent styling across all generated figures. The default font size, font family (iwona), LaTeX for text rendering, and a LaTeX preamble with necessary packages for the chosen font and encoding are specified."
   ]
  },
  {
   "cell_type": "code",
   "execution_count": 2,
   "id": "4efe4e54",
   "metadata": {},
   "outputs": [],
   "source": [
    "params = {\n",
    "    \"font.size\": 12,\n",
    "    \"font.family\": \"iwona\",\n",
    "    \"text.usetex\": True,\n",
    "    \"text.latex.preamble\": r\"\"\"\n",
    "    \\usepackage[condensed,math]{iwona}\n",
    "    \\usepackage[T1]{fontenc}\n",
    "    \"\"\",\n",
    "}\n",
    "plt.rcParams.update(params)"
   ]
  },
  {
   "cell_type": "markdown",
   "id": "fb1a9249",
   "metadata": {},
   "source": [
    "#### Define General Classes for Redistribution\n",
    "A set named `general_classes_to_be_redistributed` is defined. It contains strings representing broad or unidentified taxonomic classifications (e.g., \"Calanoida (unid)\", \"Zooplankton (unid)\"). These classes may require special handling, such as redistribution to more specific categories, during later data processing steps."
   ]
  },
  {
   "cell_type": "code",
   "execution_count": 3,
   "id": "6f518047",
   "metadata": {},
   "outputs": [],
   "source": [
    "general_classes_to_be_redistributed = {\n",
    "    \"Calanoida (unid)\",\n",
    "    \"Calanoida (civ-vi)\",\n",
    "    \"Cyclopoida (unid)\",\n",
    "    \"Zooplankton (unid)\",\n",
    "}"
   ]
  },
  {
   "cell_type": "markdown",
   "id": "cdfe3ac5",
   "metadata": {},
   "source": [
    "#### Define Root Folder for Exported Results\n",
    "The variable `exported_results_root_folderpath` stores the string path to the root directory where all exported classification results from EcoTaxa are located. This path facilitates access to the raw prediction data."
   ]
  },
  {
   "cell_type": "code",
   "execution_count": 4,
   "id": "66538409",
   "metadata": {},
   "outputs": [],
   "source": [
    "exported_results_root_folderpath = r\"exported_classification_results\""
   ]
  },
  {
   "cell_type": "markdown",
   "id": "36255a7e",
   "metadata": {},
   "source": [
    "#### Retrieve Prediction Job Files\n",
    "The `get_prediction_job_files_by_exported_ID_dict` function from the `reporting_helpers` module is invoked. This function scans the `exported_results_root_folderpath` to identify and catalog all prediction job files, returning a dictionary, `exported_jobs_dict`, where keys are unique export job IDs and values are the file paths to the corresponding job data."
   ]
  },
  {
   "cell_type": "code",
   "execution_count": 5,
   "id": "0d9d9962",
   "metadata": {},
   "outputs": [],
   "source": [
    "exported_jobs_dict = get_prediction_job_files_by_exported_ID_dict(exported_results_root_folderpath)"
   ]
  },
  {
   "cell_type": "markdown",
   "id": "61fe1be9",
   "metadata": {},
   "source": [
    "#### Define Columns to Retain\n",
    "A list called `column_to_keep` specifies the names of the columns to be selected and retained from the raw EcoTaxa export files during data processing. These columns typically include object identifiers, annotation details (original, new, EcoTaxa), sample information, and classifier output details (ID, name, score, timestamp)."
   ]
  },
  {
   "cell_type": "code",
   "execution_count": 6,
   "id": "0c97bc8a",
   "metadata": {},
   "outputs": [],
   "source": [
    "column_to_keep = [\n",
    "    \"object_id\",\n",
    "    \"object_annotation_status\",\n",
    "    \"object_annotation_category\",\n",
    "    \"object_annotation_hierarchy\",\n",
    "    \"object_original_annotation_category\",\n",
    "    \"object_newname\",\n",
    "    \"object_stage\",\n",
    "    \"object_ecotaxa_annotation_category\",\n",
    "    \"sample_id\",\n",
    "    \"sample_folder_name\",\n",
    "    \"sample_region-year\",\n",
    "    \"classif_id\",\n",
    "    \"classif_auto_id\",\n",
    "    \"classif_auto_name\",\n",
    "    \"classif_auto_score\",\n",
    "    \"classif_auto_when\",\n",
    "]"
   ]
  },
  {
   "cell_type": "markdown",
   "id": "f284df88",
   "metadata": {},
   "source": [
    "#### Load Taxonomic Category Mapping\n",
    "Taxonomic category mapping data is read from an Excel file named `taxon class names mapping master.xlsx`. Specifically, the 'newname ecotaxa mapping' sheet is loaded, and the \"newName\", \"Ecotaxa dfo category specific\", and \"Copepoda_mapping\" columns are selected. Duplicate rows are then removed from the resulting pandas DataFrame, `taxo_category_mapping_df`, ensuring unique mapping entries for standardizing taxonomic names."
   ]
  },
  {
   "cell_type": "code",
   "execution_count": 7,
   "id": "89832842",
   "metadata": {},
   "outputs": [],
   "source": [
    "taxo_category_mapping_df = pd.read_excel(\n",
    "    r\"taxon class names mapping master.xlsx\",\n",
    "    sheet_name=\"newname ecotaxa mapping\",\n",
    "    usecols=[\"newName\", \"Ecotaxa dfo category specific\", \"Copepoda_mapping\"],\n",
    ")\n",
    "taxo_category_mapping_df.drop_duplicates(inplace=True)"
   ]
  },
  {
   "cell_type": "markdown",
   "id": "46ea4089",
   "metadata": {},
   "source": [
    "#### Load Sample Short ID Mapping\n",
    "A CSV file named `relAbundanceLabels.csv` is imported into a pandas DataFrame called `selected_samples_short_ID_mapping`. This file is expected to contain mappings between full sample identifiers and shorter, more convenient labels, potentially for report labels or simplified sample identification in visualizations."
   ]
  },
  {
   "cell_type": "code",
   "execution_count": 8,
   "id": "c6a728df",
   "metadata": {},
   "outputs": [],
   "source": [
    "# Import selected sample's short ID mapping csv file\n",
    "selected_samples_short_ID_mapping = pd.read_csv(r\"relAbundanceLabels.csv\")"
   ]
  },
  {
   "cell_type": "markdown",
   "id": "5996c612",
   "metadata": {},
   "source": [
    "#### Batch Process EcoTaxa Prediction Jobs\n",
    "Orchestration of the batch processing for the previously identified EcoTaxa prediction jobs.\n",
    "1. A list `export_job_ids_list` is created, containing all job IDs from `exported_jobs_dict`.\n",
    "2. The `batch_process_ecotaxa_prediction_jobs` function is then called. This function utilizes the list of job IDs, the dictionary of job files, the list of columns to keep, the taxonomic mapping DataFrame, and the root folder path for exported results.\n",
    "3. Two dictionaries are returned:\n",
    "    - `exported_jobs_df_dict`: Containing processed data for each job as pandas DataFrames.\n",
    "    - `exported_jobs_settings_dict`: Containing settings or metadata associated with each processed job."
   ]
  },
  {
   "cell_type": "code",
   "execution_count": 9,
   "id": "9980b280",
   "metadata": {},
   "outputs": [],
   "source": [
    "export_job_ids_list = list(exported_jobs_dict.keys())\n",
    "\n",
    "exported_jobs_df_dict, exported_jobs_settings_dict = batch_process_ecotaxa_prediction_jobs(\n",
    "    export_job_ids_list,\n",
    "    exported_jobs_dict,\n",
    "    column_to_keep,\n",
    "    taxo_category_mapping_df,\n",
    "    exported_results_root_folderpath,\n",
    ")"
   ]
  },
  {
   "cell_type": "markdown",
   "id": "a183e799",
   "metadata": {},
   "source": [
    "#### Define Pickle File Paths for Processed Data\n",
    "File paths for saving (pickling) the results from the batch processing step are defined.\n",
    "- `exported_jobs_df_dict_pickle_filepath`: Path for storing the dictionary of processed job DataFrames.\n",
    "- `exported_jobs_settings_dict_pickle_filepath`: Path for storing the dictionary of job settings.\n",
    "These files will reside in a subdirectory named `pickled_processed_exports`. Using pickle files enables faster reloading of processed data in subsequent script runs, circumventing reprocessing."
   ]
  },
  {
   "cell_type": "code",
   "execution_count": 10,
   "id": "005b2786",
   "metadata": {},
   "outputs": [],
   "source": [
    "exported_jobs_df_dict_pickle_filepath = (\n",
    "    Path(\"pickled_processed_exports\") / \"exported_jobs_df_dict.pkl\"\n",
    ")\n",
    "exported_jobs_settings_dict_pickle_filepath = (\n",
    "    Path(\"pickled_processed_exports\") / \"exported_jobs_settings_dict.pkl\"\n",
    ")"
   ]
  },
  {
   "cell_type": "markdown",
   "id": "ae5b46ce",
   "metadata": {},
   "source": [
    "#### Save Processed Data to Pickle Files\n",
    "The `exported_jobs_df_dict` (containing processed DataFrames for each job) and `exported_jobs_settings_dict` (containing settings for each job) are saved to disk using the `pickle` library. The data is serialized and written in binary mode (`'wb'`) to the file paths defined previously, allowing for efficient storage and retrieval of these complex Python objects."
   ]
  },
  {
   "cell_type": "code",
   "execution_count": 11,
   "id": "86717298",
   "metadata": {
    "lines_to_next_cell": 2
   },
   "outputs": [],
   "source": [
    "with open(exported_jobs_df_dict_pickle_filepath, \"wb\") as f:\n",
    "    pickle.dump(exported_jobs_df_dict, f)\n",
    "\n",
    "with open(exported_jobs_settings_dict_pickle_filepath, \"wb\") as f:\n",
    "    pickle.dump(exported_jobs_settings_dict, f)"
   ]
  },
  {
   "cell_type": "markdown",
   "id": "7569c9d7",
   "metadata": {},
   "source": [
    "#### Define Pickle File Path for Combined Data and Metrics\n",
    "The file path `exported_jobs_data_and_metrics_dict_pickle_filepath` is defined. This path points to a pickle file within the `pickled_processed_exports` directory, intended for storing a dictionary that contains both the processed data and calculated metrics for all exported jobs. This consolidated dictionary aims to facilitate easier access to all relevant information for subsequent analysis and reporting."
   ]
  },
  {
   "cell_type": "code",
   "execution_count": 12,
   "id": "7d7588be",
   "metadata": {},
   "outputs": [],
   "source": [
    "exported_jobs_data_and_metrics_dict_pickle_filepath = (\n",
    "    Path(\"pickled_processed_exports\") / \"exported_jobs_data_and_metrics_dict.pkl\"\n",
    ")"
   ]
  },
  {
   "cell_type": "markdown",
   "id": "baf2a790",
   "metadata": {},
   "source": [
    "#### Process All Export Jobs for Data and Metrics\n",
    "Invocation of the `process_all_export_jobs` function. This function receives the dictionaries of job DataFrames (`exported_jobs_df_dict`) and job settings (`exported_jobs_settings_dict`), the sample ID mappings (`selected_samples_short_ID_mapping`), and the file path for the output pickle file (`exported_jobs_data_and_metrics_dict_pickle_filepath`).\n",
    "These inputs are processed to compute various metrics and further refine the data for each job. The result is a comprehensive dictionary, `exported_jobs_data_and_metrics_dict`. The function may also handle caching by loading from or saving to the specified pickle file."
   ]
  },
  {
   "cell_type": "code",
   "execution_count": 13,
   "id": "1b785709",
   "metadata": {},
   "outputs": [],
   "source": [
    "exported_jobs_data_and_metrics_dict = process_all_export_jobs(\n",
    "    exported_jobs_df_dict,\n",
    "    exported_jobs_settings_dict,\n",
    "    selected_samples_short_ID_mapping,\n",
    "    exported_jobs_data_and_metrics_dict_pickle_filepath,\n",
    ")"
   ]
  },
  {
   "cell_type": "markdown",
   "id": "774dd8e3",
   "metadata": {},
   "source": [
    "#### Load Pickled Job DataFrames (Potentially Redundant)\n",
    "The `exported_jobs_df_dict` is loaded from the pickle file specified by `exported_jobs_df_dict_pickle_filepath`. This action reads the previously saved dictionary of processed job DataFrames from disk. This may be redundant if preceding operations ensure the dictionary is already in memory and current, or it could serve scripts run in segments or ensure data consistency if prior steps are omitted."
   ]
  },
  {
   "cell_type": "code",
   "execution_count": 14,
   "id": "67651ad5",
   "metadata": {},
   "outputs": [],
   "source": [
    "with open(exported_jobs_df_dict_pickle_filepath, \"rb\") as f:\n",
    "    exported_jobs_df_dict = pickle.load(f)"
   ]
  },
  {
   "cell_type": "markdown",
   "id": "f821d245",
   "metadata": {},
   "source": [
    "#### Load Pickled Job Data and Metrics Dictionary\n",
    "The `exported_jobs_data_and_metrics_dict` is loaded from the pickle file specified by `exported_jobs_data_and_metrics_dict_pickle_filepath`. This retrieves the comprehensive dictionary containing detailed data and calculated metrics for each processed export job, making it available for subsequent visualization and reporting tasks."
   ]
  },
  {
   "cell_type": "code",
   "execution_count": 15,
   "id": "4a6e9870",
   "metadata": {},
   "outputs": [],
   "source": [
    "with open(exported_jobs_data_and_metrics_dict_pickle_filepath, \"rb\") as f:\n",
    "    exported_jobs_data_and_metrics_dict = pickle.load(f)"
   ]
  },
  {
   "cell_type": "markdown",
   "id": "4a22edef",
   "metadata": {},
   "source": [
    "#### Load Pickled Job Settings Dictionary\n",
    "The `exported_jobs_settings_dict` is loaded from the pickle file specified by `exported_jobs_settings_dict_pickle_filepath`. This restores the dictionary containing the settings associated with each export job, potentially needed for context in visualizations or reports."
   ]
  },
  {
   "cell_type": "code",
   "execution_count": 16,
   "id": "b1a04ad8",
   "metadata": {},
   "outputs": [],
   "source": [
    "with open(exported_jobs_settings_dict_pickle_filepath, \"rb\") as f:\n",
    "    exported_jobs_settings_dict = pickle.load(f)"
   ]
  },
  {
   "cell_type": "markdown",
   "id": "f397ae32",
   "metadata": {},
   "source": [
    "#### Define Output Folder and Figure Display Flag\n",
    "Parameters for generating outputs are established:\n",
    "- `results_and_reports_folderpath`: A `Path` object pointing to the directory named `strategy_predictions_results_and_reports`. This folder is designated for storing all generated figures, reports, and Excel files.\n",
    "- `show_figure`: A boolean variable initialized to `False`. This flag likely governs whether plots generated by subsequent functions are displayed interactively during script execution or solely saved to files."
   ]
  },
  {
   "cell_type": "code",
   "execution_count": 17,
   "id": "97ff1628",
   "metadata": {},
   "outputs": [],
   "source": [
    "results_and_reports_folderpath = Path(\"strategy_predictions_results_and_reports\")\n",
    "show_figure = False"
   ]
  },
  {
   "cell_type": "markdown",
   "id": "5d6fa5ea",
   "metadata": {},
   "source": [
    "#### Process and Generate All Visualizations\n",
    "The `process_all_visualizations` function is called to generate and save a suite of plots and reports based on the processed data.\n",
    "It receives:\n",
    "- `exported_jobs_df_dict`: DataFrames for each job.\n",
    "- `exported_jobs_data_and_metrics_dict`: Combined data and metrics.\n",
    "- `exported_jobs_settings_dict`: Job settings.\n",
    "- `selected_samples_short_ID_mapping`: Sample ID mappings.\n",
    "- `taxo_category_mapping_df`: Taxonomic mappings.\n",
    "- `results_and_reports_folderpath`: The output directory for saving visualizations.\n",
    "- `general_classes_to_be_redistributed`: Set of general classes for special handling.\n",
    "- `show_figure`: Flag to control interactive plot display.\n",
    "The count of successfully processed jobs is returned and then printed."
   ]
  },
  {
   "cell_type": "code",
   "execution_count": 18,
   "id": "a00980c8",
   "metadata": {
    "lines_to_next_cell": 2
   },
   "outputs": [
    {
     "name": "stdout",
     "output_type": "stream",
     "text": [
      "Successfully processed 1 export jobs\n"
     ]
    }
   ],
   "source": [
    "successful_jobs = process_all_visualizations(\n",
    "    exported_jobs_df_dict,\n",
    "    exported_jobs_data_and_metrics_dict,\n",
    "    exported_jobs_settings_dict,\n",
    "    selected_samples_short_ID_mapping,\n",
    "    taxo_category_mapping_df,\n",
    "    results_and_reports_folderpath,\n",
    "    general_classes_to_be_redistributed,\n",
    "    show_figure,\n",
    ")\n",
    "print(f\"Successfully processed {successful_jobs} export jobs\")"
   ]
  },
  {
   "cell_type": "markdown",
   "id": "5bf6e315",
   "metadata": {},
   "source": [
    "#### Create Classifier Metrics DataFrame\n",
    "Invocation of the `create_classifier_metrics_dataframe` function. This function uses `exported_jobs_data_and_metrics_dict` (which contains detailed metrics for each job) to aggregate this information into a single, summary pandas DataFrame named `classifier_strategies_metrics_df`. This DataFrame is expected to organize key performance metrics (e.g., F1-score, precision, recall) across different classifier strategies or configurations, thereby facilitating comparisons."
   ]
  },
  {
   "cell_type": "code",
   "execution_count": 19,
   "id": "e42c1cb6",
   "metadata": {
    "lines_to_next_cell": 2
   },
   "outputs": [],
   "source": [
    "classifier_strategies_metrics_df = create_classifier_metrics_dataframe(\n",
    "    exported_jobs_data_and_metrics_dict\n",
    ")"
   ]
  },
  {
   "cell_type": "markdown",
   "id": "856bc2b7",
   "metadata": {},
   "source": [
    "#### Generate Strategy Comparison Figures (Region, SCN, MaxObj)\n",
    "The `create_region_scn_maxObj_comp_strategy_metrics_figs` function is called.\n",
    "This function generates and saves figures comparing classifier strategy metrics, likely faceted or grouped by region, SCN (Scenario or Sample Class Name), and MaxObj (Maximum Objects).\n",
    "It utilizes:\n",
    "- `classifier_strategies_metrics_df`: The summary DataFrame of metrics.\n",
    "- `results_and_reports_folderpath`: The directory for saving the generated figures.\n",
    "- `show_figure=False`: To ensure figures are saved without interactive display."
   ]
  },
  {
   "cell_type": "code",
   "execution_count": 20,
   "id": "d41a6f0b",
   "metadata": {
    "lines_to_next_cell": 2
   },
   "outputs": [],
   "source": [
    "create_region_scn_maxObj_comp_strategy_metrics_figs(\n",
    "    classifier_strategies_metrics_df,\n",
    "    results_and_reports_folderpath,\n",
    "    show_figure=False,  # Change to True if you want to see the figures\n",
    ")"
   ]
  },
  {
   "cell_type": "markdown",
   "id": "ff054776",
   "metadata": {},
   "source": [
    "#### Generate F1 Score Comparison Figures (SCN, MaxObj)\n",
    "The `create_f1_scores_strategy_comp_by_scn_maxObj_figs` function is invoked.\n",
    "This function is tasked with generating and saving figures that specifically compare F1 scores across different classifier strategies, detailed by SCN (Scenario or Sample Class Name) and MaxObj (Maximum Objects).\n",
    "It employs:\n",
    "- `classifier_strategies_metrics_df`: The DataFrame containing aggregated metrics, including F1 scores.\n",
    "- `results_and_reports_folderpath`: The output directory for the figures.\n",
    "- `show_figure=False`: To ensure figures are saved directly without interactive display."
   ]
  },
  {
   "cell_type": "code",
   "execution_count": 21,
   "id": "ed220a0a",
   "metadata": {
    "lines_to_next_cell": 2
   },
   "outputs": [
    {
     "name": "stderr",
     "output_type": "stream",
     "text": [
      "d:\\Programming Projects\\Work Projects\\flowcam_paper_code\\plotting_helpers.py:1185: UserWarning: The figure layout has changed to tight\n",
      "  plt.tight_layout()\n"
     ]
    }
   ],
   "source": [
    "create_f1_scores_strategy_comp_by_scn_maxObj_figs(\n",
    "    classifier_strategies_metrics_df, results_and_reports_folderpath, show_figure=False\n",
    ")"
   ]
  },
  {
   "cell_type": "markdown",
   "id": "b9600e17",
   "metadata": {},
   "source": [
    "#### Save Prediction DataFrames to Excel\n",
    "The `save_prediction_dataframes_to_excel` function is called.\n",
    "Its purpose is to export the processed prediction data into Excel files, facilitating easier inspection and sharing.\n",
    "It requires:\n",
    "- `exported_jobs_df_dict`: Dictionary of DataFrames for each job.\n",
    "- `exported_jobs_data_and_metrics_dict`: Dictionary containing combined data and metrics.\n",
    "- `selected_samples_short_ID_mapping`: Mapping for sample IDs.\n",
    "- `results_and_reports_folderpath`: The directory where the Excel files will be saved.\n",
    "This provides a structured output of the detailed prediction results."
   ]
  },
  {
   "cell_type": "code",
   "execution_count": 22,
   "id": "ef5f7536",
   "metadata": {},
   "outputs": [],
   "source": [
    "save_prediction_dataframes_to_excel(\n",
    "    exported_jobs_df_dict,\n",
    "    exported_jobs_data_and_metrics_dict,\n",
    "    selected_samples_short_ID_mapping,\n",
    "    results_and_reports_folderpath,\n",
    ")"
   ]
  },
  {
   "cell_type": "markdown",
   "id": "0ee8bc04",
   "metadata": {},
   "source": [
    "#### Export Aggregated Metrics to Excel\n",
    "The `export_metrics_to_excel` function is called.\n",
    "This function processes the `exported_jobs_data_and_metrics_dict`, which holds comprehensive data including calculated metrics for each job and strategy. It extracts and organizes these metrics into a tabular format suitable for an Excel spreadsheet. The resulting Excel file, summarizing performance metrics, is saved in the `results_and_reports_folderpath`."
   ]
  },
  {
   "cell_type": "code",
   "execution_count": 23,
   "id": "f22423db",
   "metadata": {},
   "outputs": [],
   "source": [
    "export_metrics_to_excel(exported_jobs_data_and_metrics_dict, results_and_reports_folderpath)"
   ]
  },
  {
   "cell_type": "code",
   "execution_count": null,
   "id": "d9cdf39c",
   "metadata": {},
   "outputs": [],
   "source": []
  }
 ],
 "metadata": {
  "jupytext": {
   "cell_metadata_filter": "-all",
   "main_language": "python",
   "notebook_metadata_filter": "-all"
  },
  "kernelspec": {
   "display_name": "dfo_flowcam_paper-TM3jP1IN-py3.10",
   "language": "python",
   "name": "python3"
  },
  "language_info": {
   "codemirror_mode": {
    "name": "ipython",
    "version": 3
   },
   "file_extension": ".py",
   "mimetype": "text/x-python",
   "name": "python",
   "nbconvert_exporter": "python",
   "pygments_lexer": "ipython3",
   "version": "3.10.11"
  }
 },
 "nbformat": 4,
 "nbformat_minor": 5
}
