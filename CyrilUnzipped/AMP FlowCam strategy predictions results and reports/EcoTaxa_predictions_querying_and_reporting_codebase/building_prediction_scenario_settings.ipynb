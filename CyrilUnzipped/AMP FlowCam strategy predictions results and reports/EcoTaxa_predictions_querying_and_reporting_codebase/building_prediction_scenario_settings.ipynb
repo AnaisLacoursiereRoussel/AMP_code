{
 "cells": [
  {
   "cell_type": "markdown",
   "id": "6461aac9",
   "metadata": {},
   "source": [
    "## Build Prediction Scenario Settings from Excel file configuration details into a JSON file"
   ]
  },
  {
   "cell_type": "markdown",
   "id": "066a8615",
   "metadata": {},
   "source": [
    "Import necessary libraries for data manipulation, file system operations, and type hinting."
   ]
  },
  {
   "cell_type": "code",
   "execution_count": 10,
   "id": "969e2603",
   "metadata": {},
   "outputs": [],
   "source": [
    "import json\n",
    "import pathlib\n",
    "from typing import Union\n",
    "\n",
    "import numpy as np\n",
    "import pandas as pd"
   ]
  },
  {
   "cell_type": "markdown",
   "id": "2f9f5b08",
   "metadata": {},
   "source": [
    "Define the path to the Excel configuration file. Then, load the 'strategies' sheet, which outlines the different prediction strategies. Subsequently, iterate through a predefined list of regional titles, loading each corresponding sheet from the Excel file. These sheets contain specific implementation details for each region and are stored in a dictionary of pandas DataFrames."
   ]
  },
  {
   "cell_type": "code",
   "execution_count": 11,
   "id": "10443a40",
   "metadata": {},
   "outputs": [],
   "source": [
    "strategies_config_excel_filepath = r\"regional_prediction_strategies.xlsx\"\n",
    "\n",
    "# Loading the strategies definition sheet\n",
    "strategies_config_df = pd.read_excel(strategies_config_excel_filepath, sheet_name=\"strategies\")\n",
    "\n",
    "# Loading each regional implementation details sheet as a dataframe into a dictionary\n",
    "regional_title_list = [\"Gulf\", \"NL 2020\", \"NL 2021\", \"PA\"]\n",
    "\n",
    "region_implementation_config_dict: dict[str, pd.DataFrame] = {}\n",
    "\n",
    "for region in regional_title_list:\n",
    "    region_df = pd.read_excel(strategies_config_excel_filepath, sheet_name=region)\n",
    "    region_implementation_config_dict[region] = region_df"
   ]
  },
  {
   "cell_type": "markdown",
   "id": "4f0d1c2a",
   "metadata": {},
   "source": [
    "For each strategy in the `strategies_config_df` build the variables needed\n",
    "to query the EcoTaxa API, using implementation details found in the\n",
    "corresponding region's dataframe for the corresponding strategy number.<br>\n",
    "-> Record the scenarios details into a JSON file"
   ]
  },
  {
   "cell_type": "markdown",
   "id": "33fc8abd",
   "metadata": {},
   "source": [
    "Define column labels for accessing data within the regional strategy DataFrames and a mapping for columns in the main `strategies_config_df`. This facilitates easier and more readable access to specific data points later in the script."
   ]
  },
  {
   "cell_type": "code",
   "execution_count": 12,
   "id": "a4471362",
   "metadata": {
    "lines_to_next_cell": 0
   },
   "outputs": [],
   "source": [
    "region_strategy_df_col_labels = [\n",
    "    \"newName\",\n",
    "    \"stage\",\n",
    "    \"ecotaxa_category\",\n",
    "    \"selected_samples_classes_count\",\n",
    "    \"region_training_classes_count\",\n",
    "    \"all_regions_training_classes_count\",\n",
    "    \"sample_presence\",\n",
    "    \"regional_training_presence\",\n",
    "    \"global_training_presence\",\n",
    "    \"Broad category\",\n",
    "    \"Category type\",\n",
    "    \"comments\",\n",
    "]\n",
    "\n",
    "strategy_cfg_col_map = {\n",
    "    \"Region\": 0,\n",
    "    \"project_id\": 1,\n",
    "    \"strategy_number\": 2,\n",
    "    \"Broad classes strategy\": 3,\n",
    "    \"source_project_ids\": 4,\n",
    "    \"special case\": 5,\n",
    "    \"Training class set\": 6,\n",
    "    \"Select sples classes present\": 7,\n",
    "    \"Extra regional training only classes\": 8,\n",
    "    \"Low training threshold\": 9,\n",
    "    \"Region classes learning-title\": 10,\n",
    "}"
   ]
  },
  {
   "cell_type": "markdown",
   "id": "f849283d",
   "metadata": {},
   "source": [
    "Iterate through each strategy defined in `strategies_config_df`. For every strategy, extract and structure its configuration details, including regional specifics, project IDs, and class lists for training and discarding. This information is compiled into a dictionary for each scenario, which is then stored in a main dictionary `region_strategy_scenarios_dict` keyed by a tuple of region and strategy number."
   ]
  },
  {
   "cell_type": "code",
   "execution_count": 13,
   "id": "fc3c7a4f",
   "metadata": {},
   "outputs": [],
   "source": [
    "region_strategy_scenarios_dict: dict[str, dict[str, Union[str, int, float, dict, list]]] = {}\n",
    "for strategy_record in strategies_config_df.to_records(index=False):\n",
    "    scenario_data_dict: dict[str, Union[str, int, float, dict, list]] = {}\n",
    "\n",
    "    # Get the strategy dataframe with the relevant data only\n",
    "    region_df = region_implementation_config_dict[strategy_record[strategy_cfg_col_map[\"Region\"]]]\n",
    "\n",
    "    # Retrieve specific strategy df from the regional strategy df,\n",
    "    # discarding taxonomic categories not present in either selected samples\n",
    "    # or regional training sets.\n",
    "    strategy_df = region_df.loc[\n",
    "        (region_df[\"sample_presence\"] == \"yes\")\n",
    "        | (region_df[\"regional_training_presence\"] == \"yes\"),\n",
    "        region_strategy_df_col_labels + [strategy_record[strategy_cfg_col_map[\"strategy_number\"]]],\n",
    "    ]\n",
    "\n",
    "    scenario_data_dict[\"region\"] = str(strategy_record[strategy_cfg_col_map[\"Region\"]])\n",
    "    scenario_data_dict[\"project_id\"] = int(strategy_record[strategy_cfg_col_map[\"project_id\"]])\n",
    "    scenario_data_dict[\"source_project_ids\"] = [\n",
    "        int(src_id)\n",
    "        for src_id in str(strategy_record[strategy_cfg_col_map[\"source_project_ids\"]]).split(\", \")\n",
    "    ]\n",
    "\n",
    "    training_set_used_string = (\n",
    "        strategy_record[strategy_cfg_col_map[\"Region\"]]\n",
    "        if strategy_record[strategy_cfg_col_map[\"Training class set\"]] == \"Regional only\"\n",
    "        else \"all regions\"\n",
    "    )\n",
    "\n",
    "    scenario_title = (\n",
    "        f\"{strategy_record[strategy_cfg_col_map['Region']]} Selected Samples prediction using \"\n",
    "        f\"{training_set_used_string} training set,\\n\"\n",
    "        f\"{strategy_record[strategy_cfg_col_map['Region classes learning-title']]},\\n\"\n",
    "        f\"{strategy_record[strategy_cfg_col_map['Broad classes strategy']]}\"\n",
    "    )\n",
    "    scenario_data_dict[\"scenario_title\"] = scenario_title\n",
    "    scenario_data_dict[\"taxo_category_names_mapping_dict\"] = {}\n",
    "\n",
    "    # Get the list of discarded training classes from the region's strategy\n",
    "    # implementation dataframe\n",
    "    discarded_training_classes_list = strategy_df.loc[\n",
    "        strategy_df[strategy_record[strategy_cfg_col_map[\"strategy_number\"]]] == \"Discarded\",\n",
    "        \"ecotaxa_category\",\n",
    "    ].tolist()\n",
    "\n",
    "    scenario_data_dict[\"discarded_training_classes_list\"] = discarded_training_classes_list\n",
    "    # Get the list of training classes from the region's strategy\n",
    "    # implementation dataframe\n",
    "    training_classes_list = strategy_df.loc[\n",
    "        strategy_df[strategy_record[strategy_cfg_col_map[\"strategy_number\"]]] == \"kept\",\n",
    "        \"ecotaxa_category\",\n",
    "    ].tolist()\n",
    "\n",
    "    scenario_data_dict[\"training_classes_list\"] = training_classes_list\n",
    "    scenario_data_dict[\"strategy_df\"] = strategy_df.to_json()\n",
    "    scenario_data_dict[\"strategy_scenario_record\"] = {\n",
    "        col_name: record_field\n",
    "        for col_name, record_field in zip(list(strategies_config_df.columns), strategy_record)\n",
    "    }\n",
    "    region_strategy_scenarios_dict[\n",
    "        (\n",
    "            f\"({strategy_record[strategy_cfg_col_map['Region']]}, \"\n",
    "            f\"{strategy_record[strategy_cfg_col_map['strategy_number']]})\"\n",
    "        )\n",
    "    ] = scenario_data_dict"
   ]
  },
  {
   "cell_type": "markdown",
   "id": "2d318636",
   "metadata": {},
   "source": [
    "Specify the output file path for the JSON file that will store the compiled scenario details. A custom JSON encoder class, `npEncoder`, is defined to handle specific numpy integer types (int32, int64) by converting them to standard Python integers, ensuring compatibility with JSON serialization. The compiled `region_strategy_scenarios_dict` is then written to the specified JSON file using this custom encoder."
   ]
  },
  {
   "cell_type": "code",
   "execution_count": 14,
   "id": "222e91eb",
   "metadata": {
    "lines_to_next_cell": 2
   },
   "outputs": [],
   "source": [
    "scenarios_details_json_filepath = pathlib.Path(\"scenarios_details_JSON\") / \"scenarios_implementation_details.json\"\n",
    "\n",
    "\n",
    "class npEncoder(json.JSONEncoder):\n",
    "    def default(self, obj):\n",
    "        if isinstance(obj, (np.int32, np.int64)):\n",
    "            return int(obj)\n",
    "        return json.JSONEncoder.default(self, obj)\n",
    "\n",
    "\n",
    "with open(scenarios_details_json_filepath, \"w\", encoding=\"utf-8\") as f:\n",
    "    json.dump(region_strategy_scenarios_dict, f, cls=npEncoder)"
   ]
  },
  {
   "cell_type": "markdown",
   "id": "03a77f7a",
   "metadata": {},
   "source": [
    "Define the path to the previously created JSON file containing scenario implementation details. Open and read this JSON file, loading its contents into a dictionary named `dic`. This step is typically for verification or further processing of the stored scenario configurations."
   ]
  },
  {
   "cell_type": "code",
   "execution_count": 15,
   "id": "618d6c2f",
   "metadata": {
    "lines_to_next_cell": 2
   },
   "outputs": [],
   "source": [
    "scenarios_details_json_filepath = (\n",
    "    pathlib.Path(\"scenarios_details_JSON\") / \"scenarios_implementation_details.json\"\n",
    ")\n",
    "\n",
    "with open(scenarios_details_json_filepath, \"r\", encoding=\"utf-8\") as f:\n",
    "    dic = json.load(f)"
   ]
  },
  {
   "cell_type": "markdown",
   "id": "71e8200a",
   "metadata": {},
   "source": [
    "As a test, retrieve and display the details for the first strategy of the \"Gulf\" region from the loaded `dic` dictionary. This helps in verifying that the data has been correctly processed and stored."
   ]
  },
  {
   "cell_type": "code",
   "execution_count": 16,
   "id": "cdf48bf0",
   "metadata": {},
   "outputs": [
    {
     "data": {
      "text/plain": [
       "{'region': 'Gulf',\n",
       " 'project_id': 10350,\n",
       " 'source_project_ids': [10419],\n",
       " 'scenario_title': 'Gulf Selected Samples prediction using Gulf training set,\\nLearning with all classes present in the selected samples, no extra training categories,\\nNo Calanoida, Cyclopoida, Zooplankton classes in learning set',\n",
       " 'taxo_category_names_mapping_dict': {},\n",
       " 'discarded_training_classes_list': ['Aglantha',\n",
       "  'Amphipoda',\n",
       "  'Calanoida',\n",
       "  'calanus civ-cvi',\n",
       "  'larvae<Ctenophora',\n",
       "  'Cyclopoida',\n",
       "  'Euphausiacea larvae',\n",
       "  'nauplii<Euphausiacea',\n",
       "  'Heterorhabdus',\n",
       "  'Isopoda',\n",
       "  'Labidocera',\n",
       "  'Metridia',\n",
       "  'Mysida',\n",
       "  'Tortanus',\n",
       "  'Unknowns'],\n",
       " 'training_classes_list': ['acartia civ-cvi',\n",
       "  'Ascidiacea',\n",
       "  'Bivalvia<Mollusca',\n",
       "  'Bryozoa',\n",
       "  'calanoida ci-iii',\n",
       "  'centropages civ-cvi',\n",
       "  'Chaetognatha',\n",
       "  'Cirripedia',\n",
       "  'actinula<Hydrozoa',\n",
       "  'nauplii<Copepoda',\n",
       "  'zoea<Brachyura',\n",
       "  'non-brachyura zoea',\n",
       "  'larvae<Echinodermata',\n",
       "  'eurytemora civ-cvi',\n",
       "  'Evadne',\n",
       "  'Fritillaria<Fritillariidae',\n",
       "  'larvae<Gastropoda',\n",
       "  'Harpacticoida',\n",
       "  'Hydrozoa',\n",
       "  'Microsetella',\n",
       "  'Monstrilloida',\n",
       "  'Obelia',\n",
       "  'Oikopleura',\n",
       "  'Oithona',\n",
       "  'fish larvae',\n",
       "  'Ostracoda',\n",
       "  'Paracalanus',\n",
       "  'podon+pleopis',\n",
       "  'larvae<Polychaeta',\n",
       "  'Pseudocalanus',\n",
       "  'Pseudodiaptomus',\n",
       "  'temora civ-cvi'],\n",
       " 'strategy_df': '{\"newName\":{\"0\":\"Acartia spp.\",\"1\":\"Aglantha spp. (medusa)\",\"2\":\"Amphipoda\",\"4\":\"Ascidiacea (larvae)\",\"5\":\"Bivalvia (larvae)\",\"6\":\"Bryozoa (larvae)\",\"7\":\"Calanoida (ci-ciii)\",\"9\":\"Calanoida (unid)\",\"10\":\"Calanus spp.\",\"12\":\"Centropages spp.\",\"13\":\"Chaetognatha\",\"15\":\"Cirripedia (larvae)\",\"16\":\"Cnidaria (larvae)\",\"17\":\"Copepoda (nauplii)\",\"20\":\"Ctenophora (larvae)\",\"21\":\"Cyclopoida (unid)\",\"22\":\"Decapoda-brachyura (zoeae)\",\"24\":\"Decapoda-non brachyura (larvae)\",\"25\":\"Echinodermata (larvae)\",\"27\":\"Euphausiacea (larvae)\",\"28\":\"Euphausiacea (nauplii)\",\"30\":\"Eurytemora spp.\",\"32\":\"Evadne spp.\",\"34\":\"Fritillaria spp.\",\"35\":\"Gastropoda (larvae\\\\/Limacina)\",\"36\":\"Harpacticoida- epibenthic\",\"37\":\"Heterorhabdus spp.\",\"38\":\"Hydrozoa (medusa)\",\"39\":\"Isopoda\",\"40\":\"Labidocera spp.\",\"41\":\"Metridia spp.\",\"43\":\"Microsetella spp.\",\"44\":\"Monstrillidae\",\"46\":\"Mysidacea\",\"48\":\"Obelia spp. (medusa)\",\"49\":\"Oikopleura spp.\",\"50\":\"Oithona spp.\",\"52\":\"Osteichthyes (larvae)\",\"53\":\"Ostracoda\",\"54\":\"Paracalanus spp.\",\"56\":\"Podon\\\\/Pleopsis spp.\",\"57\":\"Polychaeta (larvae)\",\"58\":\"Pseudocalanus spp.\",\"59\":\"Pseudodiaptomus spp.\",\"62\":\"Temora spp.\",\"64\":\"Tortanus spp.\",\"65\":\"Zooplankton (unid)\"},\"stage\":{\"0\":\"civ-cvi\",\"1\":\"medusa\",\"2\":\"juvenile\\\\/adult\",\"4\":\"larvae\",\"5\":\"larvae\",\"6\":\"larvae\",\"7\":\"ci-ciii\",\"9\":\"ci-cvi\",\"10\":\"civ-cvi\",\"12\":\"civ-cvi\",\"13\":\"juvenile\\\\/adult\",\"15\":\"larvae (cypris or nauplii)\",\"16\":\"larvae (actinula)\",\"17\":\"larvae (nauplii)\",\"20\":\"larvae\",\"21\":\"ci-cvi\",\"22\":\"larvae (zoeae)\",\"24\":\"larvae (zoeae)\",\"25\":\"larvae\",\"27\":\"larvae\",\"28\":\"nauplii\",\"30\":\"civ-cvi\",\"32\":\"adult\",\"34\":\"adult\",\"35\":\"larvae\\\\/adult\",\"36\":\"ci-cvi\",\"37\":\"civ-cvi\",\"38\":\"medusa\",\"39\":null,\"40\":\"civ-cvi\",\"41\":\"civ-cvi\",\"43\":\"ci-cvi\",\"44\":\"ci-cvi\",\"46\":\"juvenile\\\\/adult\",\"48\":\"medusa\",\"49\":\"juvenile\\\\/adult\",\"50\":\"ci-cvi\",\"52\":\"larvae\",\"53\":\"adult\",\"54\":\"civ-cvi\",\"56\":\"adult\",\"57\":\"larvae\",\"58\":\"civ-cvi\",\"59\":\"civ-cvi\",\"62\":\"civ-cvi\",\"64\":\"civ-cvi\",\"65\":\"various\"},\"ecotaxa_category\":{\"0\":\"acartia civ-cvi\",\"1\":\"Aglantha\",\"2\":\"Amphipoda\",\"4\":\"Ascidiacea\",\"5\":\"Bivalvia<Mollusca\",\"6\":\"Bryozoa\",\"7\":\"calanoida ci-iii\",\"9\":\"Calanoida\",\"10\":\"calanus civ-cvi\",\"12\":\"centropages civ-cvi\",\"13\":\"Chaetognatha\",\"15\":\"Cirripedia\",\"16\":\"actinula<Hydrozoa\",\"17\":\"nauplii<Copepoda\",\"20\":\"larvae<Ctenophora\",\"21\":\"Cyclopoida\",\"22\":\"zoea<Brachyura\",\"24\":\"non-brachyura zoea\",\"25\":\"larvae<Echinodermata\",\"27\":\"Euphausiacea larvae\",\"28\":\"nauplii<Euphausiacea\",\"30\":\"eurytemora civ-cvi\",\"32\":\"Evadne\",\"34\":\"Fritillaria<Fritillariidae\",\"35\":\"larvae<Gastropoda\",\"36\":\"Harpacticoida\",\"37\":\"Heterorhabdus\",\"38\":\"Hydrozoa\",\"39\":\"Isopoda\",\"40\":\"Labidocera\",\"41\":\"Metridia\",\"43\":\"Microsetella\",\"44\":\"Monstrilloida\",\"46\":\"Mysida\",\"48\":\"Obelia\",\"49\":\"Oikopleura\",\"50\":\"Oithona\",\"52\":\"fish larvae\",\"53\":\"Ostracoda\",\"54\":\"Paracalanus\",\"56\":\"podon+pleopis\",\"57\":\"larvae<Polychaeta\",\"58\":\"Pseudocalanus\",\"59\":\"Pseudodiaptomus\",\"62\":\"temora civ-cvi\",\"64\":\"Tortanus\",\"65\":\"Unknowns\"},\"selected_samples_classes_count\":{\"0\":18062.0,\"1\":null,\"2\":null,\"4\":194.0,\"5\":7955.0,\"6\":247.0,\"7\":1348.0,\"9\":7711.0,\"10\":null,\"12\":44.0,\"13\":13.0,\"15\":16.0,\"16\":7.0,\"17\":2753.0,\"20\":null,\"21\":23.0,\"22\":1.0,\"24\":4.0,\"25\":37.0,\"27\":null,\"28\":null,\"30\":1.0,\"32\":16.0,\"34\":3.0,\"35\":629.0,\"36\":108.0,\"37\":null,\"38\":671.0,\"39\":null,\"40\":null,\"41\":null,\"43\":1.0,\"44\":2.0,\"46\":null,\"48\":21.0,\"49\":2.0,\"50\":2572.0,\"52\":1.0,\"53\":1.0,\"54\":1.0,\"56\":2715.0,\"57\":237.0,\"58\":7.0,\"59\":1059.0,\"62\":308.0,\"64\":null,\"65\":1822.0},\"region_training_classes_count\":{\"0\":101461.0,\"1\":1.0,\"2\":26.0,\"4\":805.0,\"5\":3574.0,\"6\":973.0,\"7\":1531.0,\"9\":23505.0,\"10\":109.0,\"12\":3461.0,\"13\":18.0,\"15\":716.0,\"16\":20.0,\"17\":10297.0,\"20\":7.0,\"21\":64.0,\"22\":277.0,\"24\":197.0,\"25\":118.0,\"27\":11.0,\"28\":23.0,\"30\":1730.0,\"32\":7238.0,\"34\":2701.0,\"35\":2871.0,\"36\":372.0,\"37\":1.0,\"38\":3730.0,\"39\":4.0,\"40\":493.0,\"41\":1.0,\"43\":4.0,\"44\":27.0,\"46\":3.0,\"48\":952.0,\"49\":37.0,\"50\":4428.0,\"52\":43.0,\"53\":1.0,\"54\":82.0,\"56\":3541.0,\"57\":464.0,\"58\":228.0,\"59\":2113.0,\"62\":2199.0,\"64\":111.0,\"65\":4715.0},\"all_regions_training_classes_count\":{\"0\":111319,\"1\":22,\"2\":27,\"4\":861,\"5\":3764,\"6\":1142,\"7\":5557,\"9\":23505,\"10\":359,\"12\":3620,\"13\":89,\"15\":7685,\"16\":25,\"17\":11555,\"20\":42,\"21\":143,\"22\":628,\"24\":423,\"25\":3043,\"27\":87,\"28\":145,\"30\":1818,\"32\":11064,\"34\":6992,\"35\":3272,\"36\":555,\"37\":1,\"38\":4052,\"39\":7,\"40\":493,\"41\":16,\"43\":4,\"44\":27,\"46\":3,\"48\":1003,\"49\":5305,\"50\":5881,\"52\":45,\"53\":25,\"54\":1619,\"56\":7347,\"57\":1577,\"58\":4845,\"59\":2113,\"62\":7347,\"64\":203,\"65\":6498},\"sample_presence\":{\"0\":\"yes\",\"1\":\"no\",\"2\":\"no\",\"4\":\"yes\",\"5\":\"yes\",\"6\":\"yes\",\"7\":\"yes\",\"9\":\"yes\",\"10\":\"no\",\"12\":\"yes\",\"13\":\"yes\",\"15\":\"yes\",\"16\":\"yes\",\"17\":\"yes\",\"20\":\"no\",\"21\":\"yes\",\"22\":\"yes\",\"24\":\"yes\",\"25\":\"yes\",\"27\":\"no\",\"28\":\"no\",\"30\":\"yes\",\"32\":\"yes\",\"34\":\"yes\",\"35\":\"yes\",\"36\":\"yes\",\"37\":\"no\",\"38\":\"yes\",\"39\":\"no\",\"40\":\"no\",\"41\":\"no\",\"43\":\"yes\",\"44\":\"yes\",\"46\":\"no\",\"48\":\"yes\",\"49\":\"yes\",\"50\":\"yes\",\"52\":\"yes\",\"53\":\"yes\",\"54\":\"yes\",\"56\":\"yes\",\"57\":\"yes\",\"58\":\"yes\",\"59\":\"yes\",\"62\":\"yes\",\"64\":\"no\",\"65\":\"yes\"},\"regional_training_presence\":{\"0\":\"yes\",\"1\":\"yes\",\"2\":\"yes\",\"4\":\"yes\",\"5\":\"yes\",\"6\":\"yes\",\"7\":\"yes\",\"9\":\"yes\",\"10\":\"yes\",\"12\":\"yes\",\"13\":\"yes\",\"15\":\"yes\",\"16\":\"yes\",\"17\":\"yes\",\"20\":\"yes\",\"21\":\"yes\",\"22\":\"yes\",\"24\":\"yes\",\"25\":\"yes\",\"27\":\"yes\",\"28\":\"yes\",\"30\":\"yes\",\"32\":\"yes\",\"34\":\"yes\",\"35\":\"yes\",\"36\":\"yes\",\"37\":\"yes\",\"38\":\"yes\",\"39\":\"yes\",\"40\":\"yes\",\"41\":\"yes\",\"43\":\"yes\",\"44\":\"yes\",\"46\":\"yes\",\"48\":\"yes\",\"49\":\"yes\",\"50\":\"yes\",\"52\":\"yes\",\"53\":\"yes\",\"54\":\"yes\",\"56\":\"yes\",\"57\":\"yes\",\"58\":\"yes\",\"59\":\"yes\",\"62\":\"yes\",\"64\":\"yes\",\"65\":\"yes\"},\"global_training_presence\":{\"0\":\"yes\",\"1\":\"yes\",\"2\":\"yes\",\"4\":\"yes\",\"5\":\"yes\",\"6\":\"yes\",\"7\":\"yes\",\"9\":\"yes\",\"10\":\"yes\",\"12\":\"yes\",\"13\":\"yes\",\"15\":\"yes\",\"16\":\"yes\",\"17\":\"yes\",\"20\":\"yes\",\"21\":\"yes\",\"22\":\"yes\",\"24\":\"yes\",\"25\":\"yes\",\"27\":\"yes\",\"28\":\"yes\",\"30\":\"yes\",\"32\":\"yes\",\"34\":\"yes\",\"35\":\"yes\",\"36\":\"yes\",\"37\":\"yes\",\"38\":\"yes\",\"39\":\"yes\",\"40\":\"yes\",\"41\":\"yes\",\"43\":\"yes\",\"44\":\"yes\",\"46\":\"yes\",\"48\":\"yes\",\"49\":\"yes\",\"50\":\"yes\",\"52\":\"yes\",\"53\":\"yes\",\"54\":\"yes\",\"56\":\"yes\",\"57\":\"yes\",\"58\":\"yes\",\"59\":\"yes\",\"62\":\"yes\",\"64\":\"yes\",\"65\":\"yes\"},\"Broad category\":{\"0\":\"no\",\"1\":\"no\",\"2\":\"no\",\"4\":\"no\",\"5\":\"no\",\"6\":\"no\",\"7\":\"no\",\"9\":\"yes\",\"10\":\"no\",\"12\":\"no\",\"13\":\"no\",\"15\":\"no\",\"16\":\"no\",\"17\":\"no\",\"20\":\"no\",\"21\":\"yes\",\"22\":\"no\",\"24\":\"no\",\"25\":\"no\",\"27\":\"no\",\"28\":\"no\",\"30\":\"no\",\"32\":\"no\",\"34\":\"no\",\"35\":\"no\",\"36\":\"no\",\"37\":\"no\",\"38\":\"no\",\"39\":\"no\",\"40\":\"no\",\"41\":\"no\",\"43\":\"no\",\"44\":\"no\",\"46\":\"no\",\"48\":\"no\",\"49\":\"no\",\"50\":\"no\",\"52\":\"no\",\"53\":\"no\",\"54\":\"no\",\"56\":\"no\",\"57\":\"no\",\"58\":\"no\",\"59\":\"no\",\"62\":\"no\",\"64\":\"no\",\"65\":\"yes\"},\"Category type\":{\"0\":\"Present\",\"1\":\"Training only\",\"2\":\"Training only\",\"4\":\"Present\",\"5\":\"Present\",\"6\":\"Present\",\"7\":\"Present\",\"9\":\"Present\",\"10\":\"Training only\",\"12\":\"Present\",\"13\":\"Present\",\"15\":\"Present\",\"16\":\"Present\",\"17\":\"Present\",\"20\":\"Training only\",\"21\":\"Present\",\"22\":\"Present\",\"24\":\"Present\",\"25\":\"Present\",\"27\":\"Training only\",\"28\":\"Training only\",\"30\":\"Present\",\"32\":\"Present\",\"34\":\"Present\",\"35\":\"Present\",\"36\":\"Present\",\"37\":\"Training only\",\"38\":\"Present\",\"39\":\"Training only\",\"40\":\"Training only\",\"41\":\"Training only\",\"43\":\"Present\",\"44\":\"Present\",\"46\":\"Training only\",\"48\":\"Present\",\"49\":\"Present\",\"50\":\"Present\",\"52\":\"Present\",\"53\":\"Present\",\"54\":\"Present\",\"56\":\"Present\",\"57\":\"Present\",\"58\":\"Present\",\"59\":\"Present\",\"62\":\"Present\",\"64\":\"Training only\",\"65\":\"Present\"},\"comments\":{\"0\":\"Present\",\"1\":\"Training only, low instances\",\"2\":\"Training only, low instances\",\"4\":\"Present\",\"5\":\"Present\",\"6\":\"Present\",\"7\":\"Present\",\"9\":\"Present\",\"10\":\"Training only, high instances\",\"12\":\"Present\",\"13\":\"Present, low regional training, better all region training\",\"15\":\"Present\",\"16\":\"Present, low regional training, low all region training\",\"17\":\"Present\",\"20\":\"Training only, low instances\",\"21\":\"Present\",\"22\":\"Present\",\"24\":\"Present\",\"25\":\"Present\",\"27\":\"Training only, low instances\",\"28\":\"Training only, low instances\",\"30\":\"Present\",\"32\":\"Present\",\"34\":\"Present\",\"35\":\"Present\",\"36\":\"Present\",\"37\":\"Training only, low instances\",\"38\":\"Present\",\"39\":\"Training only, low instances\",\"40\":\"Training only, high instances\",\"41\":\"Training only, low instances\",\"43\":\"Present, low regional training, ONLY GULF Training\",\"44\":\"Present, low regional training, ONLY GULF Training\",\"46\":\"Training only, low instances\",\"48\":\"Present\",\"49\":\"Present, low regional training, much better all region training\",\"50\":\"Present\",\"52\":\"Present\",\"53\":\"Present, low regional training, low all region training\",\"54\":\"Present\",\"56\":\"Present\",\"57\":\"Present\",\"58\":\"Present\",\"59\":\"Present\",\"62\":\"Present\",\"64\":\"Training only, high instances\",\"65\":\"Present\"},\"1\":{\"0\":\"kept\",\"1\":\"Discarded\",\"2\":\"Discarded\",\"4\":\"kept\",\"5\":\"kept\",\"6\":\"kept\",\"7\":\"kept\",\"9\":\"Discarded\",\"10\":\"Discarded\",\"12\":\"kept\",\"13\":\"kept\",\"15\":\"kept\",\"16\":\"kept\",\"17\":\"kept\",\"20\":\"Discarded\",\"21\":\"Discarded\",\"22\":\"kept\",\"24\":\"kept\",\"25\":\"kept\",\"27\":\"Discarded\",\"28\":\"Discarded\",\"30\":\"kept\",\"32\":\"kept\",\"34\":\"kept\",\"35\":\"kept\",\"36\":\"kept\",\"37\":\"Discarded\",\"38\":\"kept\",\"39\":\"Discarded\",\"40\":\"Discarded\",\"41\":\"Discarded\",\"43\":\"kept\",\"44\":\"kept\",\"46\":\"Discarded\",\"48\":\"kept\",\"49\":\"kept\",\"50\":\"kept\",\"52\":\"kept\",\"53\":\"kept\",\"54\":\"kept\",\"56\":\"kept\",\"57\":\"kept\",\"58\":\"kept\",\"59\":\"kept\",\"62\":\"kept\",\"64\":\"Discarded\",\"65\":\"Discarded\"}}',\n",
       " 'strategy_scenario_record': {'Region': 'Gulf',\n",
       "  'project_id': 10350,\n",
       "  'strategy_number': 1,\n",
       "  'Broad classes strategy': 'No Calanoida, Cyclopoida, Zooplankton classes in learning set',\n",
       "  'source_project_ids': 10419,\n",
       "  'special case': nan,\n",
       "  'Training class set': 'Regional only',\n",
       "  'Select sples classes present': 'All present classes',\n",
       "  'Extra regional training only classes': 'No',\n",
       "  'Low training threshold': 40,\n",
       "  'Region classes learning-title': 'Learning with all classes present in the selected samples, no extra training categories'}}"
      ]
     },
     "execution_count": 16,
     "metadata": {},
     "output_type": "execute_result"
    }
   ],
   "source": [
    "# test with 1st gulf strategy\n",
    "test_1st_gulf_strat_dict = dic[\"(Gulf, 1)\"]\n",
    "test_1st_gulf_strat_dict"
   ]
  }
 ],
 "metadata": {
  "jupytext": {
   "cell_metadata_filter": "-all",
   "main_language": "python",
   "notebook_metadata_filter": "-all"
  },
  "kernelspec": {
   "display_name": "dfo_flowcam_paper-cebD7lmv-py3.10",
   "language": "python",
   "name": "python3"
  },
  "language_info": {
   "name": "python",
   "version": "3.10.11"
  }
 },
 "nbformat": 4,
 "nbformat_minor": 5
}
