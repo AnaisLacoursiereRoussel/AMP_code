{
 "cells": [
  {
   "cell_type": "code",
   "execution_count": 5,
   "id": "62474643-f423-4df0-8dfd-5e0adead453e",
   "metadata": {},
   "outputs": [
    {
     "data": {
      "text/plain": [
       "\"\\nthis code is for cleaning taxa lists for the bar graphs that need phylogenetic trees.\\nThe lists are first put in here to have there 'spp.' and '(larvae)' etc. removed.\\nThen they are brought to R and used to produce trees.\\nThen the originals are reordered and saved here (bottom) based on the order in the R trees.\\nA bit convoluted, but does not take very long to do.\\n(This work around is because the ordered taxa lists coming out of R were not accurate to what was in the tree,\\nprobably due to there being a mix of taxa levels in the tree tips)\\n\""
      ]
     },
     "execution_count": 5,
     "metadata": {},
     "output_type": "execute_result"
    }
   ],
   "source": [
    "'''\n",
    "this code is for cleaning taxa lists for the bar graphs that need phylogenetic trees.\n",
    "The lists are first put in here to have there 'spp.' and '(larvae)' etc. removed.\n",
    "Then they are brought to R and used to produce trees.\n",
    "Then the originals are reordered and saved here (bottom) based on the order in the R trees.\n",
    "A bit convoluted, but does not take very long to do.\n",
    "(This work around is because the ordered taxa lists coming out of R were not accurate to what was in the tree,\n",
    "probably due to there being a mix of taxa levels in the tree tips)\n",
    "'''"
   ]
  },
  {
   "cell_type": "code",
   "execution_count": 6,
   "id": "cf777fc4-479b-4abb-80e8-51e43f37847a",
   "metadata": {},
   "outputs": [],
   "source": [
    "import re"
   ]
  },
  {
   "cell_type": "code",
   "execution_count": 75,
   "id": "01dba4c7-3e6b-4d2f-8c6d-b6cf131e8842",
   "metadata": {},
   "outputs": [],
   "source": [
    "# Original list\n",
    "# Gulf 2020 CM 5000\n",
    "taxa_list = [\n",
    "    'Polychaeta (larvae)', 'Cirripedia (larvae)', 'Evadne spp.', 'Podon/Pleopsis spp.', 'Acartia spp.', 'Calanus spp.', 'Centropages spp.', 'Eurytemora spp.', 'Calanoida (ci-ciii)', 'Paracalanus spp.', 'Pseudocalanus spp.', 'Pseudodiaptomus spp.', 'Temora spp.', 'Copepoda (nauplii)',\n",
    "    'Oithona spp.', 'Harpacticoida- epibenthic', 'Decapoda- brachyura (larvae)', 'Decapoda- non-brachyura (larvae)', 'Bryozoa (larvae)', 'Ascidiacea (larvae)', 'Osteichthyes (larvae)', 'Hydrozoa (medusa)', 'Obelia spp. (medusa)', 'Echinodermata (larvae)', 'Bivalvia (larvae)', 'Gastropoda (larvae/Limacina)', 'Labidocera spp.', 'Fritillaria spp.'\n",
    "]"
   ]
  },
  {
   "cell_type": "code",
   "execution_count": 80,
   "id": "48cc0d5d-f1d8-4550-bf6a-d0d785e8ac00",
   "metadata": {},
   "outputs": [],
   "source": [
    "# Gulf 2020 CM Max\n",
    "taxa_list = [\n",
    "'Acartia spp.', 'Ascidiacea (larvae)', 'Bivalvia (larvae)', 'Bryozoa (larvae)', 'Calanoida (ci-ciii)', 'Calanus spp.', 'Centropages spp.', 'Cirripedia (larvae)', 'Copepoda (nauplii)', 'Decapoda- brachyura (larvae)', 'Decapoda- non-brachyura (larvae)', 'Echinodermata (larvae)', 'Eurytemora spp.', 'Evadne spp.', 'Fritillaria spp.', 'Gastropoda (larvae/Limacina)', 'Harpacticoida- epibenthic', 'Hydrozoa (medusa)', 'Labidocera spp.', 'Obelia spp. (medusa)', 'Oithona spp.', 'Osteichthyes (larvae)', 'Paracalanus spp.', 'Podon/Pleopsis spp.', 'Polychaeta (larvae)', 'Pseudocalanus spp.', 'Pseudodiaptomus spp.', 'Temora spp.', 'Tortanus spp.'\n",
    "]"
   ]
  },
  {
   "cell_type": "code",
   "execution_count": null,
   "id": "d11b685b-fcc6-47c7-a991-cb5445f59daf",
   "metadata": {},
   "outputs": [],
   "source": [
    "# PA 2021 CM from predicted lists\n",
    "taxa_list = [\n",
    "    'Polychaeta (larvae)', 'Cirripedia (larvae)', 'Evadne spp.', 'Podon/Pleopsis spp.', 'Acartia spp.', 'Centropages spp.', 'Corycaeidae', 'Calanoida (ci-ciii)', 'Paracalanus spp.', 'Pseudocalanus spp.', 'Tortanus spp.', 'Copepoda (nauplii)', 'Oithona spp.', 'Decapoda- brachyura (larvae)', 'Decapoda- non-brachyura (larvae)', 'Bryozoa (larvae)', 'Oikopleura spp.', 'Ascidiacea (larvae)', 'Calycophorae (nectophore)', 'Hydrozoa (medusa)', 'Echinodermata (larvae)', 'Bivalvia (larvae)', 'Gastropoda (larvae/Limacina)', 'Platyhelminthes/Nemertea (larvae)', 'Fritillaria spp.'\n",
    "]"
   ]
  },
  {
   "cell_type": "code",
   "execution_count": 75,
   "id": "bf323e85-89d0-4cef-b544-9fe7994fd021",
   "metadata": {},
   "outputs": [],
   "source": [
    "# NL 2020 CM\n",
    "taxa_list = [\n",
    "    'Euphausiacea (nauplii)', 'Copepoda (nauplii)', 'Cirripedia (larvae)', 'Polychaeta (larvae)', 'Fritillaria spp.', 'Calanoida (ci-ciii)', 'Bryozoa (larvae)', 'Microcalanus spp.', 'Oithona spp.', 'Pseudocalanus spp.', 'Eurytemora spp.', 'Echinodermata (larvae)', 'Hydrozoa (medusa)', 'Centropages spp.', 'Aglantha spp. (medusa)', 'Acartia spp.', 'Bivalvia (larvae)', 'Harpacticoida- epibenthic', 'Temora spp.', 'Chiridius spp.', 'Chaetognatha', 'Gastropoda (larvae/Limacina)', 'Metridia spp.', 'Euphausiacea (larvae)', 'Cnidaria (larvae)', 'Evadne spp.', 'Calanus spp.', 'Tomopteris spp.', 'Obelia spp. (medusa)', 'Decapoda- non-brachyura (larvae)', 'Anthoathecata (medusa)', 'Amphipoda', 'Oikopleura spp.', 'Podon/Pleopsis spp.'\n",
    "]"
   ]
  },
  {
   "cell_type": "code",
   "execution_count": 1,
   "id": "ed197c4e-d339-4dc2-870f-faf97ffb7274",
   "metadata": {},
   "outputs": [],
   "source": [
    "# NL 2021 CM\n",
    "taxa_list = [\n",
    "    'Acartia spp.', 'Bivalvia (larvae)', 'Bryozoa (larvae)', 'Calanoida (ci-ciii)', 'Calanus spp.', 'Centropages spp.', 'Chaetognatha', 'Cirripedia (larvae)', 'Copepoda (nauplii)', 'Echinodermata (larvae)', 'Euphausiacea (nauplii)', 'Eurytemora spp.', 'Evadne spp.', 'Fritillaria spp.', 'Gastropoda (larvae/Limacina)', 'Harpacticoida- epibenthic', 'Microcalanus spp.', 'Obelia spp. (medusa)', 'Oikopleura spp.', 'Oithona spp.', 'Podon/Pleopsis spp.', 'Polychaeta (larvae)', 'Pseudocalanus spp.', 'Temora spp.'\n",
    "]"
   ]
  },
  {
   "cell_type": "code",
   "execution_count": 2,
   "id": "9252f905-c251-4f69-9452-0a1a7f24e094",
   "metadata": {},
   "outputs": [],
   "source": [
    "# Gulf Individual Bar Graph\n",
    "taxa_list = [\n",
    "    'Fritillaria spp.', 'Eurytemora spp.', 'Acartia spp.', 'Centropages spp.', 'Evadne spp.', 'Pseudodiaptomus spp.', 'Calanoida (ci-ciii)', 'Tortanus spp.', 'Obelia spp. (medusa)', 'Paracalanus spp.', 'Cirripedia (larvae)', 'Copepoda (nauplii)', 'Harpacticoida- epibenthic', 'Echinodermata (larvae)', 'Gastropoda (larvae/Limacina)', 'Oithona spp.', 'Temora spp.', 'Decapoda- non-brachyura (larvae)', 'Hydrozoa (medusa)', 'Ascidiacea (larvae)', 'Labidocera spp.', 'Bivalvia (larvae)', 'Osteichthyes (larvae)', 'Polychaeta (larvae)', 'Monstrillidae', 'Cnidaria (larvae)', 'Calanus spp.', 'Bryozoa (larvae)', 'Decapoda- brachyura (larvae)', 'Pseudocalanus spp.', 'Ostracoda', 'Oikopleura spp.', 'Microsetella spp.', 'Chaetognatha', 'Podon/Pleopsis spp.'\n",
    "]"
   ]
  },
  {
   "cell_type": "code",
   "execution_count": 10,
   "id": "a9a02263-7aeb-4afb-b054-babada208e8e",
   "metadata": {},
   "outputs": [],
   "source": [
    "# Pacific Individual Bar Graph\n",
    "taxa_list = [\n",
    "    'Siphonophorae (nectophore)', 'Ctenophora larvae', 'Ctenophora (juvenile/adult)', 'Calycophorae (nectophore)', 'Platyhelminthes/Nemertea (larvae)', 'Copepoda (nauplii)', 'Decapoda- brachyura (larvae)', 'Paracalanus spp.', 'Gastropoda (larvae/Limacina)', 'Calanus spp.', 'Evadne spp.', 'Acartia spp.', 'Hydrozoa (medusa)', 'Ostracoda', 'Decapoda- non-brachyura (larvae)', 'Echinodermata (larvae)', 'Fritillaria spp.', 'Obelia spp. (medusa)', 'Euphysa spp. (medusa)', 'Corycaeidae', 'Bryozoa (larvae)', 'Ascidiacea (larvae)', 'Calanoida (ci-ciii)', 'Bivalvia (larvae)', 'Sarsia spp. (medusa)', 'Chaetognatha', 'Pseudocalanus spp.', 'Podon/Pleopsis spp.', 'Scyphozoa (medusa)', 'Neoturris spp. (medusa)', 'Leuckartiara spp. (medusa)', 'Harpacticoida- epibenthic', 'Cirripedia (larvae)', 'Polychaeta (larvae)', 'Oikopleura spp.', 'Scyphozoa (larvae)', 'Platyhelminthes/Nemertea (juvenile)', 'Isopoda (larvae)', 'Epilabidocera spp.', 'Amphipoda- epibenthic', 'Alciopidae sp.', 'Osteichthyes (larvae)', 'Oithona spp.', 'Centropages spp.', 'Tortanus spp.'\n",
    "]"
   ]
  },
  {
   "cell_type": "code",
   "execution_count": 26,
   "id": "dd69fb83-0478-4ff3-af9d-25e40c4844e5",
   "metadata": {},
   "outputs": [],
   "source": [
    "# NL 2020 Individual Bar Graph\n",
    "taxa_list = [\n",
    "'Euphausiacea (nauplii)', 'Copepoda (nauplii)', 'Cirripedia (larvae)', 'Polychaeta (larvae)', 'Fritillaria spp.', 'Calanoida (ci-ciii)', 'Bryozoa (larvae)', 'Microcalanus spp.', 'Oithona spp.', 'Pseudocalanus spp.', 'Eurytemora spp.', 'Echinodermata (larvae)', 'Hydrozoa (medusa)', 'Centropages spp.', 'Aglantha spp. (medusa)', 'Acartia spp.', 'Bivalvia (larvae)', 'Harpacticoida- epibenthic', 'Temora spp.', 'Chiridius spp.', 'Chaetognatha', 'Gastropoda (larvae/Limacina)', 'Metridia spp.', 'Euphausiacea (larvae)', 'Cnidaria (larvae)', 'Evadne spp.', 'Calanus spp.', 'Tomopteris spp.', 'Obelia spp. (medusa)', 'Decapoda- non-brachyura (larvae)', 'Anthoathecata (medusa)', 'Amphipoda', 'Oikopleura spp.', 'Podon/Pleopsis spp.'\n",
    "]"
   ]
  },
  {
   "cell_type": "code",
   "execution_count": 46,
   "id": "342986b6-147f-4b34-959c-a510f892fcea",
   "metadata": {},
   "outputs": [],
   "source": [
    "# NL 2021 Individual Bar Graph\n",
    "taxa_list = [\n",
    "'Copepoda (nauplii)', 'Cirripedia (larvae)', 'Evadne spp.', 'Pseudocalanus spp.', 'Centropages spp.', 'Podon/Pleopsis spp.', 'Oithona spp.', 'Oikopleura spp.', 'Calanoida (ci-ciii)', 'Polychaeta (larvae)', 'Euphausiacea (nauplii)', 'Echinodermata (larvae)', 'Hydrozoa (medusa)', 'Acartia spp.', 'Bivalvia (larvae)', 'Fritillaria spp.', 'Chaetognatha', 'Bryozoa (larvae)', 'Euphausiacea (larvae)', 'Microcalanus spp.', 'Aglantha spp. (medusa)', 'Eurytemora spp.', 'Decapoda- non-brachyura (larvae)', 'Ostracoda', 'Tortanus spp.', 'Temora spp.', 'Sarsia spp. (medusa)', 'Monstrillidae', 'Foraminifera', 'Obelia spp. (medusa)', 'Gastropoda (larvae/Limacina)', 'Calanus spp.', 'Harpacticoida- epibenthic'\n",
    "]"
   ]
  },
  {
   "cell_type": "code",
   "execution_count": 73,
   "id": "47a26abf-e82b-4eab-af27-09b4ba1958f2",
   "metadata": {},
   "outputs": [
    {
     "name": "stdout",
     "output_type": "stream",
     "text": [
      "34 34\n"
     ]
    }
   ],
   "source": [
    "\n",
    "replaced_list = taxa_list.copy()\n",
    "for i, item in enumerate(replaced_list):\n",
    "    if item == 'Decapoda- brachyura (larvae)':\n",
    "        replaced_list[i] = 'Brachyura'\n",
    "    if item == 'Platyhelminthes/Nemertea (juvenile)':\n",
    "        replaced_list[i] = 'Nemertea'\n",
    "    if item == 'Ctenophora (juvenile/adult)':\n",
    "        replaced_list[i] = 'Tentaculata'\n",
    "    if item == 'Scyphozoa (medusa)':\n",
    "        replaced_list[i] = 'Cubozoa'\n",
    "    if item == 'Euphausiacea (nauplii)':\n",
    "        replaced_list[i] = 'Euphausia'\n",
    "\n",
    "replaced_list\n",
    "print(len(taxa_list), len(replaced_list))"
   ]
  },
  {
   "cell_type": "code",
   "execution_count": 74,
   "id": "02949341-28e3-468a-8181-eed462dee573",
   "metadata": {},
   "outputs": [
    {
     "name": "stdout",
     "output_type": "stream",
     "text": [
      "['Acartia', 'Aglantha', 'Amphipoda', 'Anthoathecata', 'Bivalvia', 'Bryozoa', 'Calanoida', 'Calanus', 'Centropages', 'Chaetognatha', 'Chiridius', 'Cirripedia', 'Cnidaria', 'Copepoda', 'Decapoda', 'Echinodermata', 'Euphausia', 'Euphausiacea', 'Eurytemora', 'Evadne', 'Fritillaria', 'Gastropoda', 'Harpacticoida', 'Hydrozoa', 'Metridia', 'Microcalanus', 'Obelia', 'Oikopleura', 'Oithona', 'Podon', 'Polychaeta', 'Pseudocalanus', 'Temora', 'Tomopteris']\n",
      "34\n"
     ]
    }
   ],
   "source": [
    "# Regex pattern to remove suffixes in parentheses and abbreviations like 'spp.'\n",
    "pattern = re.compile(r\"(\\s*\\(.*?\\))|(\\bspp\\.)|(-\\s.*)|(\\/.*)|(\\s.*)\")\n",
    "\n",
    "# Clean the taxa list\n",
    "cleaned_taxa = [re.sub(pattern, '', taxa).strip() for taxa in replaced_list]\n",
    "\n",
    "# Print the cleaned taxa list\n",
    "print(sorted(cleaned_taxa))\n",
    "print(len(cleaned_taxa))"
   ]
  },
  {
   "cell_type": "code",
   "execution_count": 49,
   "id": "524c48b8-7aaa-4263-b195-5a940839475d",
   "metadata": {},
   "outputs": [
    {
     "data": {
      "text/plain": [
       "{'Copepoda (nauplii)': 'Copepoda',\n",
       " 'Cirripedia (larvae)': 'Cirripedia',\n",
       " 'Evadne spp.': 'Evadne',\n",
       " 'Pseudocalanus spp.': 'Pseudocalanus',\n",
       " 'Centropages spp.': 'Centropages',\n",
       " 'Podon/Pleopsis spp.': 'Podon',\n",
       " 'Oithona spp.': 'Oithona',\n",
       " 'Oikopleura spp.': 'Oikopleura',\n",
       " 'Calanoida (ci-ciii)': 'Calanoida',\n",
       " 'Polychaeta (larvae)': 'Polychaeta',\n",
       " 'Euphausiacea (nauplii)': 'Euphausia',\n",
       " 'Echinodermata (larvae)': 'Echinodermata',\n",
       " 'Hydrozoa (medusa)': 'Hydrozoa',\n",
       " 'Acartia spp.': 'Acartia',\n",
       " 'Bivalvia (larvae)': 'Bivalvia',\n",
       " 'Fritillaria spp.': 'Fritillaria',\n",
       " 'Chaetognatha': 'Chaetognatha',\n",
       " 'Bryozoa (larvae)': 'Bryozoa',\n",
       " 'Euphausiacea (larvae)': 'Euphausiacea',\n",
       " 'Microcalanus spp.': 'Microcalanus',\n",
       " 'Aglantha spp. (medusa)': 'Aglantha',\n",
       " 'Eurytemora spp.': 'Eurytemora',\n",
       " 'Decapoda- non-brachyura (larvae)': 'Decapoda',\n",
       " 'Ostracoda': 'Ostracoda',\n",
       " 'Tortanus spp.': 'Tortanus',\n",
       " 'Temora spp.': 'Temora',\n",
       " 'Sarsia spp. (medusa)': 'Sarsia',\n",
       " 'Monstrillidae': 'Monstrillidae',\n",
       " 'Foraminifera': 'Foraminifera',\n",
       " 'Obelia spp. (medusa)': 'Obelia',\n",
       " 'Gastropoda (larvae/Limacina)': 'Gastropoda',\n",
       " 'Calanus spp.': 'Calanus',\n",
       " 'Harpacticoida- epibenthic': 'Harpacticoida'}"
      ]
     },
     "execution_count": 49,
     "metadata": {},
     "output_type": "execute_result"
    }
   ],
   "source": [
    "taxa_dict = dict(zip(taxa_list, cleaned_taxa))\n",
    "taxa_dict"
   ]
  },
  {
   "cell_type": "code",
   "execution_count": 50,
   "id": "c0e6f02c-4c7f-4914-978f-f7360ade02b4",
   "metadata": {},
   "outputs": [
    {
     "name": "stdout",
     "output_type": "stream",
     "text": [
      "'Copepoda (nauplii)',\n",
      "'Cirripedia (larvae)',\n",
      "'Evadne spp.',\n",
      "'Pseudocalanus spp.',\n",
      "'Centropages spp.',\n",
      "'Podon/Pleopsis spp.',\n",
      "'Oithona spp.',\n",
      "'Oikopleura spp.',\n",
      "'Calanoida (ci-ciii)',\n",
      "'Polychaeta (larvae)',\n",
      "'Euphausiacea (nauplii)',\n",
      "'Echinodermata (larvae)',\n",
      "'Hydrozoa (medusa)',\n",
      "'Acartia spp.',\n",
      "'Bivalvia (larvae)',\n",
      "'Fritillaria spp.',\n",
      "'Chaetognatha',\n",
      "'Bryozoa (larvae)',\n",
      "'Euphausiacea (larvae)',\n",
      "'Microcalanus spp.',\n",
      "'Aglantha spp. (medusa)',\n",
      "'Eurytemora spp.',\n",
      "'Decapoda- non-brachyura (larvae)',\n",
      "'Ostracoda',\n",
      "'Tortanus spp.',\n",
      "'Temora spp.',\n",
      "'Sarsia spp. (medusa)',\n",
      "'Monstrillidae',\n",
      "'Foraminifera',\n",
      "'Obelia spp. (medusa)',\n",
      "'Gastropoda (larvae/Limacina)',\n",
      "'Calanus spp.',\n",
      "'Harpacticoida- epibenthic',\n"
     ]
    }
   ],
   "source": [
    "for item in taxa_list:\n",
    "    print(f\"'{item}',\")"
   ]
  },
  {
   "cell_type": "code",
   "execution_count": 24,
   "id": "e22dce5d-5649-4e89-93ab-bb6813a679f8",
   "metadata": {},
   "outputs": [],
   "source": [
    "# Gulf 2020 CM Max\n",
    "order_from_r = [\n",
    "'Temora spp.',\n",
    "'Eurytemora spp.',\n",
    "'Calanoida (ci-ciii)',\n",
    "'Acartia spp.',\n",
    "'Calanus spp.',\n",
    "'Centropages spp.',\n",
    "'Labidocera spp.',\n",
    "'Paracalanus spp.',\n",
    "'Pseudocalanus spp.',\n",
    "'Pseudodiaptomus spp.',\n",
    "'Oithona spp.',\n",
    "'Harpacticoida- epibenthic',\n",
    "'Copepoda (nauplii)',\n",
    "'Decapoda- non-brachyura (larvae)',\n",
    "'Decapoda- brachyura (larvae)',\n",
    "'Cirripedia (larvae)',\n",
    "'Podon/Pleopsis spp.',\n",
    "'Evadne spp.',\n",
    "'Fritillaria spp.',\n",
    "'Ascidiacea (larvae)',\n",
    "'Osteichthyes (larvae)',\n",
    "'Gastropoda (larvae/Limacina)',\n",
    "'Bivalvia (larvae)',\n",
    "'Obelia spp. (medusa)',\n",
    "'Hydrozoa (medusa)',\n",
    "'Bryozoa (larvae)',\n",
    "'Echinodermata (larvae)',\n",
    "'Polychaeta (larvae)',\n",
    "]"
   ]
  },
  {
   "cell_type": "code",
   "execution_count": null,
   "id": "db2f3ce1-4231-498f-aeed-b17303988ec1",
   "metadata": {},
   "outputs": [],
   "source": [
    "# Gulf 2020 CM 5000\n",
    "order_from_r = [\n",
    "'Temora spp.',\n",
    "'Eurytemora spp.',\n",
    "'Calanoida (ci-ciii)',\n",
    "'Acartia spp.',\n",
    "'Calanus spp.',\n",
    "'Centropages spp.',\n",
    "'Labidocera spp.',\n",
    "'Paracalanus spp.',\n",
    "'Pseudocalanus spp.',\n",
    "'Pseudodiaptomus spp.',\n",
    "'Tortanus spp.',\n",
    "'Oithona spp.',\n",
    "'Harpacticoida- epibenthic',\n",
    "'Copepoda (nauplii)',\n",
    "'Decapoda- non-brachyura (larvae)',\n",
    "'Decapoda- brachyura (larvae)',\n",
    "'Cirripedia (larvae)',\n",
    "'Podon/Pleopsis spp.',\n",
    "'Evadne spp.',\n",
    "'Fritillaria spp.',\n",
    "'Ascidiacea (larvae)',\n",
    "'Osteichthyes (larvae)',\n",
    "'Gastropoda (larvae/Limacina)',\n",
    "'Bivalvia (larvae)',\n",
    "'Obelia spp. (medusa)',\n",
    "'Hydrozoa (medusa)',\n",
    "'Bryozoa (larvae)',\n",
    "'Echinodermata (larvae)',\n",
    "'Polychaeta (larvae)',\n",
    "]"
   ]
  },
  {
   "cell_type": "code",
   "execution_count": null,
   "id": "6f9d0fad-0347-44b2-a90c-e2e79b943116",
   "metadata": {},
   "outputs": [],
   "source": [
    "#PA 2021\n",
    "order_from_r = [\n",
    "    'Centropages spp.',\n",
    "    'Acartia spp.',\n",
    "    'Calanoida (ci-ciii)',\n",
    "    'Paracalanus spp.',\n",
    "    'Pseudocalanus spp.',\n",
    "    'Tortanus spp.',\n",
    "    'Oithona spp.',\n",
    "    'Corycaeidae',\n",
    "    'Copepoda (nauplii)',\n",
    "    'Decapoda- non-brachyura (larvae)',\n",
    "    'Decapoda- brachyura (larvae)',\n",
    "    'Cirripedia (larvae)',\n",
    "    'Podon/Pleopsis spp.',\n",
    "    'Evadne spp.',\n",
    "    'Fritillaria spp.',\n",
    "    'Oikopleura spp.',\n",
    "    'Ascidiacea (larvae)',\n",
    "    'Hydrozoa (medusa)',\n",
    "    'Calycophorae (nectophore)',\n",
    "    'Gastropoda (larvae/Limacina)',\n",
    "    'Bivalvia (larvae)',\n",
    "    'Polychaeta (larvae)',\n",
    "    'Bryozoa (larvae)',\n",
    "    'Echinodermata (larvae)',\n",
    "    'Platyhelminthes/Nemertea (larvae)',\n",
    "]"
   ]
  },
  {
   "cell_type": "code",
   "execution_count": 71,
   "id": "2060424a-6578-4de6-a4e2-2255bc1e3428",
   "metadata": {},
   "outputs": [
    {
     "data": {
      "text/plain": [
       "24"
      ]
     },
     "execution_count": 71,
     "metadata": {},
     "output_type": "execute_result"
    }
   ],
   "source": [
    "# NL 2020 CM\n",
    "order_from_r = [\n",
    "    'Temora spp.',\n",
    "    'Eurytemora spp.',\n",
    "    'Pseudocalanus spp.',\n",
    "    'Microcalanus spp.',\n",
    "    'Calanus spp.',\n",
    "    'Acartia spp.',\n",
    "    'Centropages spp.',\n",
    "    'Calanoida (ci-ciii)',\n",
    "    'Harpacticoida- epibenthic',\n",
    "    'Oithona spp.',\n",
    "    'Copepoda (nauplii)',\n",
    "    'Cirripedia (larvae)',\n",
    "    'Euphausiacea (nauplii)',\n",
    "    'Podon/Pleopsis spp.',\n",
    "    'Evadne spp.',\n",
    "    'Fritillaria spp.',\n",
    "    'Oikopleura spp.',\n",
    "    'Gastropoda (larvae/Limacina)',\n",
    "    'Bivalvia (larvae)',\n",
    "    'Polychaeta (larvae)',\n",
    "    'Bryozoa (larvae)',\n",
    "    'Chaetognatha',\n",
    "    'Obelia spp. (medusa)',\n",
    "    'Echinodermata (larvae)',\n",
    "]\n",
    "len(order_from_r)"
   ]
  },
  {
   "cell_type": "code",
   "execution_count": null,
   "id": "961534f1-a47d-4803-96a7-e2352e82ae91",
   "metadata": {},
   "outputs": [],
   "source": [
    "# NL 2021 CM\n",
    "order_from_r = [\n",
    "    'Temora spp.',\n",
    "    'Eurytemora spp.',\n",
    "    'Pseudocalanus spp.',\n",
    "    'Microcalanus spp.',\n",
    "    'Calanoida (ci-ciii)',\n",
    "    'Acartia spp.',\n",
    "    'Calanus spp.',\n",
    "    'Centropages spp.',\n",
    "    'Oithona spp.',\n",
    "    'Harpacticoida- epibenthic',\n",
    "    'Copepoda (nauplii)',\n",
    "    'Cirripedia (larvae)',\n",
    "    'Euphausiacea (nauplii)',\n",
    "    'Podon/Pleopsis spp.',\n",
    "    'Evadne spp.',\n",
    "    'Gastropoda (larvae/Limacina)',\n",
    "    'Bivalvia (larvae)',\n",
    "    'Oikopleura spp.',\n",
    "    'Fritillaria spp.',\n",
    "    'Bryozoa (larvae)',\n",
    "    'Chaetognatha',\n",
    "    'Echinodermata (larvae)',\n",
    "    'Obelia spp. (medusa)',\n",
    "    'Polychaeta (larvae)',\n",
    "]"
   ]
  },
  {
   "cell_type": "code",
   "execution_count": null,
   "id": "780cf953-a371-499a-bc18-1cc97478a7dc",
   "metadata": {},
   "outputs": [],
   "source": [
    "# Gulf Ind Bar Graphs\n",
    "order_from_r = [\n",
    "    'Temora spp.',\n",
    "    'Eurytemora spp.',\n",
    "    'Calanoida (ci-ciii)',\n",
    "    'Acartia spp.',\n",
    "    'Calanus spp.',\n",
    "    'Centropages spp.',\n",
    "    'Labidocera spp.',\n",
    "    'Paracalanus spp.',\n",
    "    'Pseudocalanus spp.',\n",
    "    'Pseudodiaptomus spp.',\n",
    "    'Tortanus spp.',\n",
    "    'Microsetella spp.',\n",
    "    'Harpacticoida- epibenthic',\n",
    "    'Monstrillidae',\n",
    "    'Oithona spp.',\n",
    "    'Copepoda (nauplii)',\n",
    "    'Decapoda- non-brachyura (larvae)',\n",
    "    'Decapoda- brachyura (larvae)',\n",
    "    'Cirripedia (larvae)',\n",
    "    'Podon/Pleopsis spp.',\n",
    "    'Evadne spp.',\n",
    "    'Ostracoda',\n",
    "    'Oikopleura spp.',\n",
    "    'Fritillaria spp.',\n",
    "    'Ascidiacea (larvae)',\n",
    "    'Osteichthyes (larvae)',\n",
    "    'Obelia spp. (medusa)',\n",
    "    'Hydrozoa (medusa)',\n",
    "    'Cnidaria (larvae)',\n",
    "    'Gastropoda (larvae/Limacina)',\n",
    "    'Bivalvia (larvae)',\n",
    "    'Bryozoa (larvae)',\n",
    "    'Chaetognatha',\n",
    "    'Echinodermata (larvae)',\n",
    "    'Polychaeta (larvae)',\n",
    "]\n",
    "\n"
   ]
  },
  {
   "cell_type": "code",
   "execution_count": null,
   "id": "31749219-0736-4b1d-b2ea-42dbcb36f763",
   "metadata": {},
   "outputs": [],
   "source": [
    "# Pacific Ind Bar Graphs\n",
    "order_from_r = [\n",
    "    'Calanoida (ci-ciii)',\n",
    "    'Acartia spp.',\n",
    "    'Calanus spp.',\n",
    "    'Centropages spp.',\n",
    "    'Epilabidocera spp.',\n",
    "    'Paracalanus spp.',\n",
    "    'Pseudocalanus spp.',\n",
    "    'Tortanus spp.',\n",
    "    'Oithona spp.',\n",
    "    'Corycaeidae',\n",
    "    'Harpacticoida- epibenthic',\n",
    "    'Copepoda (nauplii)',\n",
    "    'Decapoda- non-brachyura (larvae)',\n",
    "    'Decapoda- brachyura (larvae)',\n",
    "    'Isopoda (larvae)',\n",
    "    'Amphipoda- epibenthic',\n",
    "    'Cirripedia (larvae)',\n",
    "    'Podon/Pleopsis spp.',\n",
    "    'Evadne spp.',\n",
    "    'Ostracoda',\n",
    "    'Neoturris spp. (medusa)',\n",
    "    'Leuckartiara spp. (medusa)',\n",
    "    'Euphysa spp. (medusa)',\n",
    "    'Sarsia spp. (medusa)',\n",
    "    'Siphonophorae (nectophore)',\n",
    "    'Calycophorae (nectophore)',\n",
    "    'Obelia spp. (medusa)',\n",
    "    'Hydrozoa (medusa)',\n",
    "    'Scyphozoa (medusa)',\n",
    "    'Scyphozoa (larvae)',\n",
    "    'Oikopleura spp.',\n",
    "    'Fritillaria spp.',\n",
    "    'Ascidiacea (larvae)',\n",
    "    'Osteichthyes (larvae)',\n",
    "    'Polychaeta (larvae)',\n",
    "    'Alciopidae sp.',\n",
    "    'Gastropoda (larvae/Limacina)',\n",
    "    'Bivalvia (larvae)',\n",
    "    'Ctenophora (juvenile/adult)',\n",
    "    'Ctenophora larvae',\n",
    "    'Bryozoa (larvae)',\n",
    "    'Chaetognatha',\n",
    "    'Echinodermata (larvae)',\n",
    "    'Platyhelminthes/Nemertea (juvenile)',\n",
    "    'Platyhelminthes/Nemertea (larvae)',\n",
    "]"
   ]
  },
  {
   "cell_type": "code",
   "execution_count": null,
   "id": "395788f1-7290-4942-b8ae-50b9da76b27f",
   "metadata": {},
   "outputs": [],
   "source": [
    "#NL 2020 ind bar graphs\n",
    "order_from_r = [\n",
    "    'Temora spp.',\n",
    "    'Eurytemora spp.',\n",
    "    'Pseudocalanus spp.',\n",
    "    'Microcalanus spp.',\n",
    "    'Calanoida (ci-ciii)',\n",
    "    'Acartia spp.',\n",
    "    'Calanus spp.',\n",
    "    'Centropages spp.',\n",
    "    'Chiridius spp.',\n",
    "    'Metridia spp.',\n",
    "    'Oithona spp.',\n",
    "    'Harpacticoida- epibenthic',\n",
    "    'Copepoda (nauplii)',\n",
    "    'Euphausiacea (larvae)',\n",
    "    'Euphausiacea (nauplii)',\n",
    "    'Decapoda- non-brachyura (larvae)',\n",
    "    'Amphipoda',\n",
    "    'Cirripedia (larvae)',\n",
    "    'Podon/Pleopsis spp.',\n",
    "    'Evadne spp.',\n",
    "    'Obelia spp. (medusa)',\n",
    "    'Anthoathecata (medusa)',\n",
    "    'Aglantha spp. (medusa)',\n",
    "    'Hydrozoa (medusa)',\n",
    "    'Cnidaria (larvae)',\n",
    "    'Gastropoda (larvae/Limacina)',\n",
    "    'Bivalvia (larvae)',\n",
    "    'Oikopleura spp.',\n",
    "    'Fritillaria spp.',\n",
    "    'Tomopteris spp.',\n",
    "    'Polychaeta (larvae)',\n",
    "    'Bryozoa (larvae)',\n",
    "    'Chaetognatha',\n",
    "    'Echinodermata (larvae)',\n",
    "]"
   ]
  },
  {
   "cell_type": "code",
   "execution_count": 66,
   "id": "7314e5b5-019f-4ddd-bd2f-a9c12331134b",
   "metadata": {},
   "outputs": [],
   "source": [
    "# NL 2021 ind bar graphs\n",
    "order_from_r = [\n",
    "    'Temora spp.',\n",
    "    'Eurytemora spp.',\n",
    "    'Pseudocalanus spp.',\n",
    "    'Microcalanus spp.',\n",
    "    'Calanoida (ci-ciii)',\n",
    "    'Acartia spp.',\n",
    "    'Calanus spp.',\n",
    "    'Centropages spp.',\n",
    "    'Tortanus spp.',\n",
    "    'Monstrillidae',\n",
    "    'Harpacticoida- epibenthic',\n",
    "    'Oithona spp.',\n",
    "    'Copepoda (nauplii)',\n",
    "    'Euphausiacea (larvae)',\n",
    "    'Euphausiacea (nauplii)',\n",
    "    'Decapoda- non-brachyura (larvae)',\n",
    "    'Cirripedia (larvae)',\n",
    "    'Podon/Pleopsis spp.',\n",
    "    'Evadne spp.',\n",
    "    'Ostracoda',\n",
    "    'Sarsia spp. (medusa)',\n",
    "    'Obelia spp. (medusa)',\n",
    "    'Hydrozoa (medusa)',\n",
    "    'Aglantha spp. (medusa)',\n",
    "    'Gastropoda (larvae/Limacina)',\n",
    "    'Bivalvia (larvae)',\n",
    "    'Oikopleura spp.',\n",
    "    'Fritillaria spp.',\n",
    "    'Bryozoa (larvae)',\n",
    "    'Chaetognatha',\n",
    "    'Echinodermata (larvae)',\n",
    "    'Polychaeta (larvae)',\n",
    "    'Foraminifera',\n",
    "]"
   ]
  },
  {
   "cell_type": "code",
   "execution_count": 76,
   "id": "8597bf9d-0921-406a-be5f-f94f425031be",
   "metadata": {},
   "outputs": [
    {
     "data": {
      "text/plain": [
       "34"
      ]
     },
     "execution_count": 76,
     "metadata": {},
     "output_type": "execute_result"
    }
   ],
   "source": [
    "len(taxa_list)"
   ]
  },
  {
   "cell_type": "code",
   "execution_count": null,
   "id": "d1b3a125-d451-4ea8-afab-00122daa2fab",
   "metadata": {},
   "outputs": [],
   "source": []
  }
 ],
 "metadata": {
  "kernelspec": {
   "display_name": "Python 3 (ipykernel)",
   "language": "python",
   "name": "python3"
  },
  "language_info": {
   "codemirror_mode": {
    "name": "ipython",
    "version": 3
   },
   "file_extension": ".py",
   "mimetype": "text/x-python",
   "name": "python",
   "nbconvert_exporter": "python",
   "pygments_lexer": "ipython3",
   "version": "3.12.3"
  }
 },
 "nbformat": 4,
 "nbformat_minor": 5
}
