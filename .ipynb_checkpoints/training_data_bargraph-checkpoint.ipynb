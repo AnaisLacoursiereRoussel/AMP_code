{
 "cells": [
  {
   "cell_type": "code",
   "execution_count": 1,
   "id": "1e0553d8-6ff8-47a9-a629-c2b414bc6bf0",
   "metadata": {},
   "outputs": [],
   "source": [
    "'''\n",
    "This code produces a bar graph to compare the number of training images in each region\n",
    "'''\n",
    "import glob\n",
    "import pandas as pd\n",
    "import numpy as np\n",
    "import matplotlib.pyplot as plt\n"
   ]
  },
  {
   "cell_type": "code",
   "execution_count": 2,
   "id": "6e8fc5b7-8de8-4f0a-bbfd-897d961df051",
   "metadata": {},
   "outputs": [
    {
     "data": {
      "text/plain": [
       "4"
      ]
     },
     "execution_count": 2,
     "metadata": {},
     "output_type": "execute_result"
    }
   ],
   "source": [
    "#import the spreadsheet that has number of training images\n",
    "four_sheets = []\n",
    "regions = [ 'Gulf', 'NL 2020', 'NL 2021', 'PA']\n",
    "xls = pd.ExcelFile('regional_prediction_strategies.xlsx')\n",
    "current_sheets = pd.read_excel(xls, None)\n",
    "for key in current_sheets.keys():\n",
    "    if key in regions:\n",
    "        four_sheets.append(current_sheets[key])\n",
    "len(four_sheets)"
   ]
  },
  {
   "cell_type": "code",
   "execution_count": 3,
   "id": "c4f9fb8a-35eb-4328-b322-835176d023dd",
   "metadata": {},
   "outputs": [
    {
     "name": "stdout",
     "output_type": "stream",
     "text": [
      "Gulf\n",
      "NL 2020\n",
      "NL 2021\n",
      "PA\n",
      "[array([101461.,  23505.,  10297.,   7238.,   4715.,   4428.,   3730.,\n",
      "         3574.,   3541.,   3461.]), array([5448., 5148., 4552., 3713., 3447., 2845., 2807., 1409., 1025.,\n",
      "        761.]), array([5448., 5148., 4552., 3713., 3447., 2845., 2807., 1409., 1025.,\n",
      "        761.]), array([6358., 4507., 4410., 3605., 3481., 2649., 1760., 1525., 1270.,\n",
      "        981.])]\n",
      "[array([101461.,  23505.,  10297.,   7238.,   4715.,   4428.,   3730.,\n",
      "         3574.,   3541.,   3461.]), array([5448., 5148., 4552., 3713., 3447., 2845., 2807., 1409., 1025.,\n",
      "        761.]), array([5448., 5148., 4552., 3713., 3447., 2845., 2807., 1409., 1025.,\n",
      "        761.]), array([6358., 4507., 4410., 3605., 3481., 2649., 1760., 1525., 1270.,\n",
      "        981.]), array([111319,  23505,  11555,  11064,   7685,   7347,   7347,   6992,\n",
      "         6498,   6288], dtype=int64)]\n"
     ]
    }
   ],
   "source": [
    "#organize the data into arrays for the bargraph\n",
    "just_counts = []\n",
    "for i, sheet in enumerate(four_sheets):\n",
    "    print(regions[i])\n",
    "    sheet = sheet.sort_values('region_training_classes_count', ascending=False).reset_index(drop=True)\n",
    "    two_cols = sheet.loc[:9][['newName', 'region_training_classes_count']]\n",
    "    just_counts.append(two_cols['region_training_classes_count'].to_numpy())\n",
    "print(just_counts)\n",
    "\n",
    "sheet = four_sheets[0].sort_values('all_regions_training_classes_count', ascending=False).reset_index(drop=True)\n",
    "two_cols = sheet.loc[:9][['newName', 'all_regions_training_classes_count']]\n",
    "just_counts.append(two_cols['all_regions_training_classes_count'].to_numpy())\n",
    "print(just_counts)"
   ]
  },
  {
   "cell_type": "code",
   "execution_count": 16,
   "id": "14936501-82dc-4db0-9100-bd752206d7a3",
   "metadata": {},
   "outputs": [
    {
     "data": {
      "image/png": "[encoded data removed]",
      "text/plain": [
       "<Figure size 1000x300 with 1 Axes>"
      ]
     },
     "metadata": {},
     "output_type": "display_data"
    }
   ],
   "source": [
    "#plot the graphs\n",
    "\n",
    "regions = ['All Regions', 'Gulf', 'NL', 'PA']\n",
    "{'Gulf': 'palevioletred', 'PA': 'darkturquoise', 'NL 2020': 'gray', 'NL 2021': 'darkorange'}\n",
    "\n",
    "n_bars = len(just_counts[0])\n",
    "\n",
    "\n",
    "\n",
    "# Positions for each bar in a group\n",
    "x = np.arange(n_bars)\n",
    "\n",
    "# Define the width of each bar\n",
    "bar_width = 0.8\n",
    "\n",
    "# Adjust positions for each list group to add spacing between them\n",
    "offset = n_bars + 2  # Adding some extra space between clusters\n",
    "x_list1 = x\n",
    "x_list2 = x + offset\n",
    "x_list3 = x + 2 * offset\n",
    "x_list4 = x + 3 * offset\n",
    "x_list5 = x + 4 * offset\n",
    "regionColors = {'Pacific': '#d95f02', 'Gulf':'#1b9e77', 'NL 2020': '#7570b3', 'NL 2021': '#e7298a'}\n",
    "colors = ['palevioletred', 'darkorange', 'darkturquoise', '#f1c40f', 'gray']  # Blue, red, green, yellow\n",
    "plt.figure(figsize=((10, 3)))\n",
    "# Plot each list as a separate group of ten bars\n",
    "plt.bar(x_list1, just_counts[4], color='gray', width=bar_width, label='All')\n",
    "plt.bar(x_list2, just_counts[0], color=regionColors['Gulf'], width=bar_width, label='Gulf')\n",
    "plt.bar(x_list3, just_counts[1], color=regionColors['NL 2020'], width=bar_width, label='NL')\n",
    "# plt.bar(x_list4, just_counts[2], color=colors[2], width=bar_width, label='List 3')\n",
    "plt.bar(x_list4, just_counts[3], color=regionColors['Pacific'], width=bar_width, label='PA')\n",
    "plt.axhline(y=5000, color='black', linestyle='--', linewidth=1,)\n",
    "# plt.axhline(y=200, color='black', linestyle='--', linewidth=1,)\n",
    "\n",
    "plt.text(0.8, 23600, '<--- 111,319 Acartia', ha='left', va='bottom', fontsize=12)\n",
    "plt.text(12.5, 23600, '<--- 101,561 Acartia', ha='left', va='bottom', fontsize=12)\n",
    "\n",
    "# Adding labels and legend\n",
    "# plt.xlabel('Regions', fontsize=16)\n",
    "plt.ylabel('Number of Images Available', fontsize=12)\n",
    "# plt.title('Training Images by Region', fontsize=16)\n",
    "plt.xticks(\n",
    "    (x_list1.mean(), x_list2.mean(), x_list3.mean(), x_list4.mean()), \n",
    "    regions,\n",
    "    fontsize=12,\n",
    ")\n",
    "plt.ylim([0, 26000])\n",
    "# plt.legend(fontsize=14)\n",
    "\n",
    "# Display the plot\n",
    "plt.tight_layout()\n",
    "plt.show()"
   ]
  },
  {
   "cell_type": "code",
   "execution_count": 17,
   "id": "880dbdfe-c42f-48b8-b511-4173d522ad73",
   "metadata": {},
   "outputs": [
    {
     "name": "stdout",
     "output_type": "stream",
     "text": [
      "---------------------- Gulf -----------------------\n",
      "47 185283.0\n",
      "['Acartia spp.' 'Calanoida (unid)' 'Copepoda (nauplii)' 'Evadne spp.'\n",
      " 'Zooplankton (unid)' 'Oithona spp.' 'Hydrozoa (medusa)'\n",
      " 'Bivalvia (larvae)' 'Podon/Pleopsis spp.' 'Centropages spp.'\n",
      " 'Gastropoda (larvae/Limacina)' 'Fritillaria spp.' 'Temora spp.'\n",
      " 'Pseudodiaptomus spp.' 'Eurytemora spp.' 'Calanoida (ci-ciii)'\n",
      " 'Bryozoa (larvae)' 'Obelia spp. (medusa)' 'Ascidiacea (larvae)'\n",
      " 'Cirripedia (larvae)' 'Labidocera spp.' 'Polychaeta (larvae)'\n",
      " 'Harpacticoida- epibenthic' 'Decapoda-brachyura (zoeae)'\n",
      " 'Pseudocalanus spp.' 'Decapoda-non brachyura (larvae)'\n",
      " 'Echinodermata (larvae)' 'Tortanus spp.' 'Calanus spp.'\n",
      " 'Paracalanus spp.' 'Cyclopoida (unid)' 'Osteichthyes (larvae)'\n",
      " 'Oikopleura spp.' 'Monstrillidae' 'Amphipoda' 'Euphausiacea (nauplii)'\n",
      " 'Cnidaria (larvae)' 'Chaetognatha' 'Euphausiacea (larvae)'\n",
      " 'Ctenophora (larvae)' 'Microsetella spp.' 'Isopoda' 'Mysidacea'\n",
      " 'Metridia spp.' 'Ostracoda' 'Aglantha spp. (medusa)' 'Heterorhabdus spp.']\n",
      "---------------------- NL 2020 -----------------------\n",
      "47 34561.0\n",
      "['Acartia spp.' 'Aglantha spp. (medusa)' 'Amphipoda' 'Ascidiacea (larvae)'\n",
      " 'Bivalvia (larvae)' 'Bryozoa (larvae)' 'Calanoida (ci-ciii)'\n",
      " 'Calanoida (civ-vi)' 'Calanus spp.' 'Centropages spp.' 'Chaetognatha'\n",
      " 'Chiridius spp.' 'Cirripedia (larvae)' 'Cnidaria (larvae)'\n",
      " 'Copepoda (nauplii)' 'Ctenophora (larvae)' 'Cyclopoida (unid)'\n",
      " 'Decapoda-brachyura (zoeae)' 'Decapoda-non brachyura (larvae)'\n",
      " 'Echinodermata (larvae)' 'Eurytemora spp.' 'Evadne spp.'\n",
      " 'Fritillaria spp.' 'Gastropoda (larvae/Limacina)'\n",
      " 'Harpacticoida- epibenthic' 'Hydrozoa (medusa)' 'Metridia spp.'\n",
      " 'Microcalanus spp.' 'Obelia spp. (medusa)' 'Oikopleura spp.'\n",
      " 'Oithona spp.' 'Oncaeidae spp.' 'Osteichthyes (larvae)' 'Ostracoda'\n",
      " 'Paracalanus spp.' 'Podon/Pleopsis spp.' 'Polychaeta (larvae)'\n",
      " 'Pseudocalanus spp.' 'Sarsia spp. (medusa)' 'Temora spp.'\n",
      " 'Tomopteris spp.' 'Tortanus spp.' 'Zooplankton (unid)' 'Euchaetidae spp.'\n",
      " 'Euphausiacea (larvae)' 'Euphausiacea (nauplii)'\n",
      " 'Platyhelminthes/Nemertea (larvae)']\n",
      "---------------------- NL 2021 -----------------------\n",
      "48 34561.0\n",
      "['Acartia spp.' 'Aglantha spp. (medusa)' 'Amphipoda' 'Ascidiacea (larvae)'\n",
      " 'Bivalvia (larvae)' 'Bryozoa (larvae)' 'Calanoida (ci-ciii)'\n",
      " 'Calanoida (civ-vi)' 'Calanus spp.' 'Centropages spp.' 'Chaetognatha'\n",
      " 'Chiridius spp.' 'Cirripedia (larvae)' 'Cnidaria (larvae)'\n",
      " 'Copepoda (nauplii)' 'Ctenophora (larvae)' 'Cyclopoida (unid)'\n",
      " 'Decapoda-brachyura (zoeae)' 'Decapoda-non brachyura (larvae)'\n",
      " 'Echinodermata (larvae)' 'Eurytemora spp.' 'Evadne spp.'\n",
      " 'Fritillaria spp.' 'Gastropoda (larvae/Limacina)'\n",
      " 'Harpacticoida- epibenthic' 'Hydrozoa (medusa)' 'Metridia spp.'\n",
      " 'Microcalanus spp.' 'Monstrillidae' 'Obelia spp. (medusa)'\n",
      " 'Oikopleura spp.' 'Oithona spp.' 'Oncaeidae spp.' 'Osteichthyes (larvae)'\n",
      " 'Ostracoda' 'Paracalanus spp.' 'Podon/Pleopsis spp.'\n",
      " 'Polychaeta (larvae)' 'Pseudocalanus spp.' 'Sarsia spp. (medusa)'\n",
      " 'Temora spp.' 'Tomopteris spp.' 'Tortanus spp.' 'Zooplankton (unid)'\n",
      " 'Euchaetidae spp.' 'Euphausiacea (larvae)' 'Euphausiacea (nauplii)'\n",
      " 'Platyhelminthes/Nemertea (larvae)']\n",
      "---------------------- PA -----------------------\n",
      "45 35634.0\n",
      "['Acartia spp.' 'Ascidiacea (larvae)' 'Bivalvia (larvae)'\n",
      " 'Bryozoa (larvae)' 'Calanoida (ci-ciii)' 'Calanoida (civ-vi)'\n",
      " 'Calanus spp.' 'Calycophorae (nectophore)' 'Centropages spp.'\n",
      " 'Chaetognatha' 'Cirripedia (larvae)' 'Cnidaria (larvae)'\n",
      " 'Copepoda (nauplii)' 'Corycaeidae' 'Ctenophora (larvae)'\n",
      " 'Cyclopoida (unid)' 'Decapoda-brachyura (zoeae)'\n",
      " 'Decapoda-non brachyura (larvae)' 'Echinodermata (larvae)'\n",
      " 'Euphysa spp. (medusa)' 'Evadne spp.' 'Fritillaria spp.'\n",
      " 'Gastropoda (larvae/Limacina)' 'Harpacticoida- epibenthic'\n",
      " 'Hydrozoa (medusa)' 'Obelia spp. (medusa)' 'Oikopleura spp.'\n",
      " 'Oithona spp.' 'Oncaeidae spp.' 'Osteichthyes (larvae)' 'Ostracoda'\n",
      " 'Paracalanus spp.' 'Podon/Pleopsis spp.' 'Polychaeta (larvae)'\n",
      " 'Pseudocalanus spp.' 'Tortanus spp.' 'Zooplankton (unid)'\n",
      " 'Decapoda-brachyura (larvae)' 'Euphausiacea (larvae)'\n",
      " 'Euterpina acutifrons' 'Isopoda' 'Mysida (larvae)'\n",
      " 'Neoturris spp. (medusa)' 'Platyhelminthes/Nemertea (larvae)'\n",
      " 'Siphonophorae']\n"
     ]
    }
   ],
   "source": [
    "# show the taxa and sum of training images for each region. NL 2020 and NL 2021 are equal, as they should be.\n",
    "regions = [ 'Gulf', 'NL 2020', 'NL 2021', 'PA']\n",
    "for r, region in enumerate(regions):\n",
    "    print('----------------------', region, '-----------------------')\n",
    "    df = four_sheets[r]\n",
    "    df = df[df['region_training_classes_count'].notna()]\n",
    "    sum = df['region_training_classes_count'].sum()\n",
    "    print(len(df), sum)\n",
    "    print(df['newName'].to_numpy())"
   ]
  }
 ],
 "metadata": {
  "kernelspec": {
   "display_name": "Python 3 (ipykernel)",
   "language": "python",
   "name": "python3"
  },
  "language_info": {
   "codemirror_mode": {
    "name": "ipython",
    "version": 3
   },
   "file_extension": ".py",
   "mimetype": "text/x-python",
   "name": "python",
   "nbconvert_exporter": "python",
   "pygments_lexer": "ipython3",
   "version": "3.12.3"
  }
 },
 "nbformat": 4,
 "nbformat_minor": 5
}
